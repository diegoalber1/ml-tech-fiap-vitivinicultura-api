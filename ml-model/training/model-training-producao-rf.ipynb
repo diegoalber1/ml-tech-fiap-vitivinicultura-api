{
 "cells": [
  {
   "cell_type": "markdown",
   "metadata": {},
   "source": [
    "### CONFIGURACAO AMBIENTE"
   ]
  },
  {
   "cell_type": "code",
   "execution_count": 20,
   "metadata": {},
   "outputs": [
    {
     "ename": "ImportError",
     "evalue": "cannot import name 'SMOTER' from 'imblearn.over_sampling' (/home/alberone/projects/fiap/ml-engineering/ml-tech-fiap-vitivinicultura-api/venv/lib/python3.12/site-packages/imblearn/over_sampling/__init__.py)",
     "output_type": "error",
     "traceback": [
      "\u001b[31m---------------------------------------------------------------------------\u001b[39m",
      "\u001b[31mImportError\u001b[39m                               Traceback (most recent call last)",
      "\u001b[36mCell\u001b[39m\u001b[36m \u001b[39m\u001b[32mIn[20]\u001b[39m\u001b[32m, line 2\u001b[39m\n\u001b[32m      1\u001b[39m \u001b[38;5;66;03m# Importar as bibliotecas necessárias\u001b[39;00m\n\u001b[32m----> \u001b[39m\u001b[32m2\u001b[39m \u001b[38;5;28;01mfrom\u001b[39;00m\u001b[38;5;250m \u001b[39m\u001b[34;01mimblearn\u001b[39;00m\u001b[34;01m.\u001b[39;00m\u001b[34;01mover_sampling\u001b[39;00m\u001b[38;5;250m \u001b[39m\u001b[38;5;28;01mimport\u001b[39;00m SMOTER\n\u001b[32m      3\u001b[39m \u001b[38;5;28;01mimport\u001b[39;00m\u001b[38;5;250m \u001b[39m\u001b[34;01mpandas\u001b[39;00m\u001b[38;5;250m \u001b[39m\u001b[38;5;28;01mas\u001b[39;00m\u001b[38;5;250m \u001b[39m\u001b[34;01mpd\u001b[39;00m\n\u001b[32m      4\u001b[39m \u001b[38;5;28;01mimport\u001b[39;00m\u001b[38;5;250m \u001b[39m\u001b[34;01mnumpy\u001b[39;00m\u001b[38;5;250m \u001b[39m\u001b[38;5;28;01mas\u001b[39;00m\u001b[38;5;250m \u001b[39m\u001b[34;01mnp\u001b[39;00m\n",
      "\u001b[31mImportError\u001b[39m: cannot import name 'SMOTER' from 'imblearn.over_sampling' (/home/alberone/projects/fiap/ml-engineering/ml-tech-fiap-vitivinicultura-api/venv/lib/python3.12/site-packages/imblearn/over_sampling/__init__.py)"
     ]
    }
   ],
   "source": [
    "# Importar as bibliotecas necessárias\n",
    "from imblearn.over_sampling import SMOTER\n",
    "import pandas as pd\n",
    "import numpy as np\n",
    "import joblib\n",
    "\n",
    "from sklearn.model_selection import train_test_split\n",
    "from sklearn.preprocessing import OneHotEncoder,StandardScaler\n",
    "from sklearn.ensemble import RandomForestRegressor\n",
    "from sklearn.metrics import mean_squared_error\n",
    "from sqlalchemy import create_engine\n",
    "from sklearn.multioutput import MultiOutputRegressor\n",
    "\n",
    "\n",
    "\n",
    "\n",
    "# Configurações do banco de dados\n",
    "DB_NAME = \"vitivinicultura_db\"\n",
    "DB_USER = \"postgres\"\n",
    "DB_PASSWORD = \"102030\"\n",
    "DB_HOST = \"localhost\"\n",
    "DB_PORT = \"5432\"\n",
    "\n",
    "# Criar o engine de conexão usando SQLAlchemy\n",
    "connection_string = f\"postgresql://{DB_USER}:{DB_PASSWORD}@{DB_HOST}:{DB_PORT}/{DB_NAME}\"\n",
    "engine = create_engine(connection_string)\n",
    "\n",
    "# Criar uma conexão a partir do engine\n",
    "connection = engine.raw_connection()\n"
   ]
  },
  {
   "cell_type": "markdown",
   "metadata": {},
   "source": [
    "### DATA LOAD"
   ]
  },
  {
   "cell_type": "code",
   "execution_count": 2,
   "metadata": {},
   "outputs": [
    {
     "name": "stderr",
     "output_type": "stream",
     "text": [
      "/tmp/ipykernel_364460/2683005586.py:3: UserWarning: pandas only supports SQLAlchemy connectable (engine/connection) or database string URI or sqlite3 DBAPI2 connection. Other DBAPI2 objects are not tested. Please consider using SQLAlchemy.\n",
      "  df_exportacao = pd.read_sql(query, con=connection)\n"
     ]
    },
    {
     "data": {
      "text/html": [
       "<div>\n",
       "<style scoped>\n",
       "    .dataframe tbody tr th:only-of-type {\n",
       "        vertical-align: middle;\n",
       "    }\n",
       "\n",
       "    .dataframe tbody tr th {\n",
       "        vertical-align: top;\n",
       "    }\n",
       "\n",
       "    .dataframe thead th {\n",
       "        text-align: right;\n",
       "    }\n",
       "</style>\n",
       "<table border=\"1\" class=\"dataframe\">\n",
       "  <thead>\n",
       "    <tr style=\"text-align: right;\">\n",
       "      <th></th>\n",
       "      <th>id</th>\n",
       "      <th>ano</th>\n",
       "      <th>pais</th>\n",
       "      <th>quantidade_litros</th>\n",
       "      <th>valor_usd</th>\n",
       "      <th>data_insercao</th>\n",
       "    </tr>\n",
       "  </thead>\n",
       "  <tbody>\n",
       "    <tr>\n",
       "      <th>0</th>\n",
       "      <td>1</td>\n",
       "      <td>2023</td>\n",
       "      <td>Afeganistão</td>\n",
       "      <td>NaN</td>\n",
       "      <td>NaN</td>\n",
       "      <td>2025-03-30 18:27:41.917881</td>\n",
       "    </tr>\n",
       "    <tr>\n",
       "      <th>1</th>\n",
       "      <td>2</td>\n",
       "      <td>2023</td>\n",
       "      <td>África do Sul</td>\n",
       "      <td>117.0</td>\n",
       "      <td>698.0</td>\n",
       "      <td>2025-03-30 18:27:41.917881</td>\n",
       "    </tr>\n",
       "    <tr>\n",
       "      <th>2</th>\n",
       "      <td>3</td>\n",
       "      <td>2023</td>\n",
       "      <td>Alemanha, República Democrática</td>\n",
       "      <td>4806.0</td>\n",
       "      <td>31853.0</td>\n",
       "      <td>2025-03-30 18:27:41.917881</td>\n",
       "    </tr>\n",
       "    <tr>\n",
       "      <th>3</th>\n",
       "      <td>4</td>\n",
       "      <td>2023</td>\n",
       "      <td>Angola</td>\n",
       "      <td>NaN</td>\n",
       "      <td>NaN</td>\n",
       "      <td>2025-03-30 18:27:41.917881</td>\n",
       "    </tr>\n",
       "    <tr>\n",
       "      <th>4</th>\n",
       "      <td>5</td>\n",
       "      <td>2023</td>\n",
       "      <td>Anguilla</td>\n",
       "      <td>NaN</td>\n",
       "      <td>NaN</td>\n",
       "      <td>2025-03-30 18:27:41.917881</td>\n",
       "    </tr>\n",
       "  </tbody>\n",
       "</table>\n",
       "</div>"
      ],
      "text/plain": [
       "   id   ano                             pais  quantidade_litros  valor_usd  \\\n",
       "0   1  2023                      Afeganistão                NaN        NaN   \n",
       "1   2  2023                    África do Sul              117.0      698.0   \n",
       "2   3  2023  Alemanha, República Democrática             4806.0    31853.0   \n",
       "3   4  2023                           Angola                NaN        NaN   \n",
       "4   5  2023                         Anguilla                NaN        NaN   \n",
       "\n",
       "               data_insercao  \n",
       "0 2025-03-30 18:27:41.917881  \n",
       "1 2025-03-30 18:27:41.917881  \n",
       "2 2025-03-30 18:27:41.917881  \n",
       "3 2025-03-30 18:27:41.917881  \n",
       "4 2025-03-30 18:27:41.917881  "
      ]
     },
     "execution_count": 2,
     "metadata": {},
     "output_type": "execute_result"
    }
   ],
   "source": [
    "# Carregar os dados da tabela de exportação\n",
    "query = \"SELECT * FROM exportacao;\"\n",
    "df_exportacao = pd.read_sql(query, con=connection)\n",
    "\n",
    "# Fechar a conexão\n",
    "connection.close()\n",
    "\n",
    "# Visualizar os primeiros registros dos dados carregados\n",
    "df_exportacao.head()\n"
   ]
  },
  {
   "cell_type": "markdown",
   "metadata": {},
   "source": [
    "### DATA PREPARATION"
   ]
  },
  {
   "cell_type": "code",
   "execution_count": 3,
   "metadata": {},
   "outputs": [
    {
     "data": {
      "text/plain": [
       "id                   0\n",
       "ano                  0\n",
       "pais                 0\n",
       "quantidade_litros    0\n",
       "valor_usd            0\n",
       "data_insercao        0\n",
       "dtype: int64"
      ]
     },
     "execution_count": 3,
     "metadata": {},
     "output_type": "execute_result"
    }
   ],
   "source": [
    "# Substituir \"-\" por NaN nas colunas 'quantidade_litros' e 'valor_usd'\n",
    "df_exportacao['quantidade_litros'] = pd.to_numeric(df_exportacao['quantidade_litros'], errors='coerce')\n",
    "df_exportacao['valor_usd'] = pd.to_numeric(df_exportacao['valor_usd'], errors='coerce')\n",
    "\n",
    "# Remover linhas com valores ausentes (NaN) em 'quantidade_litros' ou 'valor_usd'\n",
    "df_clean = df_exportacao.dropna(subset=['quantidade_litros', 'valor_usd'])\n",
    "\n",
    "# Verificar se há mais dados ausentes após limpeza\n",
    "df_clean.isnull().sum()"
   ]
  },
  {
   "cell_type": "code",
   "execution_count": 4,
   "metadata": {},
   "outputs": [],
   "source": [
    "# Codificar o país usando One-Hot Encoding\n",
    "encoder = OneHotEncoder(sparse_output=False)\n",
    "pais_encoded = encoder.fit_transform(df_exportacao[['pais']])\n",
    "\n",
    "# Criar um DataFrame com a codificação dos países\n",
    "pais_encoded_df = pd.DataFrame(pais_encoded, columns=encoder.get_feature_names_out(['pais']))\n",
    "\n",
    "# Adicionar as variáveis numéricas (ano, quantidade de litros, valor em USD) ao DataFrame\n",
    "df_encoded = pd.concat([df_exportacao[['ano', 'quantidade_litros', 'valor_usd']], pais_encoded_df], axis=1)\n",
    "\n",
    "# Normalizar as variáveis numéricas\n",
    "scaler = StandardScaler()\n",
    "df_encoded[['ano', 'quantidade_litros', 'valor_usd']] = scaler.fit_transform(df_encoded[['ano', 'quantidade_litros', 'valor_usd']])\n",
    "\n"
   ]
  },
  {
   "cell_type": "code",
   "execution_count": 5,
   "metadata": {},
   "outputs": [
    {
     "name": "stdout",
     "output_type": "stream",
     "text": [
      "Index(['ano', 'quantidade_litros', 'valor_usd', 'pais_Afeganistão',\n",
      "       'pais_Alemanha, República Democrática', 'pais_Angola', 'pais_Anguilla',\n",
      "       'pais_Antilhas Holandesas', 'pais_Antígua e Barbuda', 'pais_Argentina',\n",
      "       ...\n",
      "       'pais_Trinidade Tobago', 'pais_Tunísia', 'pais_Turquia', 'pais_Tuvalu',\n",
      "       'pais_Uruguai', 'pais_Vanuatu', 'pais_Venezuela', 'pais_Vietnã',\n",
      "       'pais_África do Sul', 'pais_Áustria'],\n",
      "      dtype='object', length=141)\n"
     ]
    }
   ],
   "source": [
    "print(df_encoded.columns)"
   ]
  },
  {
   "cell_type": "code",
   "execution_count": 6,
   "metadata": {},
   "outputs": [],
   "source": [
    "# Definir as variáveis de entrada (X) e as variáveis de saída (y)\n",
    "X = df_encoded.drop(columns=['quantidade_litros', 'valor_usd'])  # Remover as colunas de saída\n",
    "y = df_encoded['valor_usd']  # Colunas de saída\n"
   ]
  },
  {
   "cell_type": "code",
   "execution_count": 7,
   "metadata": {},
   "outputs": [
    {
     "name": "stdout",
     "output_type": "stream",
     "text": [
      "Dimensões do conjunto de treino X: (1104, 139)\n",
      "Dimensões do conjunto de teste X: (276, 139)\n",
      "Dimensões do conjunto de treino y: (1104,)\n",
      "Dimensões do conjunto de teste y: (276,)\n"
     ]
    }
   ],
   "source": [
    "\n",
    "# Dividir os dados em conjunto de treino e teste (80% treino, 20% teste)\n",
    "X_train, X_test, y_train, y_test = train_test_split(X, y, test_size=0.2, random_state=42)\n",
    "\n",
    "\n",
    "# Preencher valores NaN com a média das colunas\n",
    "X_train = X_train.fillna(X_train.mean())\n",
    "y_train = y_train.fillna(y_train.mean())\n",
    "X_test = X_test.fillna(X_test.mean())\n",
    "y_test = y_test.fillna(y_test.mean())\n",
    "\n",
    "\n",
    "# Exibir as dimensões dos conjuntos de treino e teste\n",
    "print(f\"Dimensões do conjunto de treino X: {X_train.shape}\")\n",
    "print(f\"Dimensões do conjunto de teste X: {X_test.shape}\")\n",
    "print(f\"Dimensões do conjunto de treino y: {y_train.shape}\")\n",
    "print(f\"Dimensões do conjunto de teste y: {y_test.shape}\")\n"
   ]
  },
  {
   "cell_type": "markdown",
   "metadata": {},
   "source": [
    "## MODEL TRAINING"
   ]
  },
  {
   "cell_type": "markdown",
   "metadata": {},
   "source": [
    "#### TRAINING (LINEAR REGRESSION)"
   ]
  },
  {
   "cell_type": "code",
   "execution_count": null,
   "metadata": {},
   "outputs": [
    {
     "name": "stdout",
     "output_type": "stream",
     "text": [
      "Modelo treinado com Random Forest - MultiOutputRegressor\n"
     ]
    }
   ],
   "source": [
    "# # Criar o modelo de Random Forest\n",
    "# model_rf = RandomForestRegressor(n_estimators=100, random_state=42)\n",
    "\n",
    "# # Treinar o modelo com os dados de treino\n",
    "# model_rf.fit(X_train, y_train)\n",
    "\n",
    "# Aplicar o SMOTE para regressão\n",
    "smote = SMOTER(random_state=42)\n",
    "X_train_res, y_train_res = smote.fit_resample(X_train, y_train)\n",
    "\n",
    "\n",
    "# # Criar o modelo de Random Forest para múltiplas saídas\n",
    "# model_rf = MultiOutputRegressor(RandomForestRegressor(n_estimators=100, random_state=42))\n",
    "\n",
    "# # Treinar o modelo com as variáveis de entrada (X) e saída (y)\n",
    "# model_rf.fit(X_train, y_train)\n",
    "\n",
    "# Exibir os coeficientes do modelo treinado\n",
    "print(\"Modelo treinado com Random Forest - MultiOutputRegressor\")\n"
   ]
  },
  {
   "cell_type": "markdown",
   "metadata": {},
   "source": [
    "#### EVALUATE MODEL"
   ]
  },
  {
   "cell_type": "code",
   "execution_count": 9,
   "metadata": {},
   "outputs": [
    {
     "name": "stdout",
     "output_type": "stream",
     "text": [
      "Erro Quadrático Médio (MSE): 0.12767177530457266\n"
     ]
    }
   ],
   "source": [
    "# Prever a quantidade de litros e o valor em USD com os dados de teste\n",
    "y_pred = model_rf.predict(X_test)\n",
    "\n",
    "# Calcular o erro quadrático médio (MSE) para avaliar o desempenho\n",
    "mse = mean_squared_error(y_test, y_pred)\n",
    "\n",
    "# Exibir o erro quadrático médio\n",
    "print(f\"Erro Quadrático Médio (MSE): {mse}\")\n"
   ]
  },
  {
   "cell_type": "code",
   "execution_count": 10,
   "metadata": {},
   "outputs": [
    {
     "name": "stdout",
     "output_type": "stream",
     "text": [
      "Colunas usadas no treinamento: ['ano', 'pais_Afeganistão', 'pais_Alemanha, República Democrática', 'pais_Angola', 'pais_Anguilla', 'pais_Antilhas Holandesas', 'pais_Antígua e Barbuda', 'pais_Argentina', 'pais_Aruba', 'pais_Arábia Saudita', 'pais_Austrália', 'pais_Bahamas', 'pais_Bangladesh', 'pais_Barbados', 'pais_Barein', 'pais_Belice', 'pais_Benin', 'pais_Bermudas', 'pais_Bolívia', 'pais_Brasil', 'pais_Bulgária', 'pais_Bélgica', 'pais_Bósnia-Herzegovina', 'pais_Cabo Verde', 'pais_Camarões', 'pais_Canadá', 'pais_Catar', 'pais_Cayman, Ilhas', 'pais_Chile', 'pais_China', 'pais_Chipre', 'pais_Cingapura', 'pais_Cocos (Keeling), Ilhas', 'pais_Colômbia', 'pais_Comores', 'pais_Congo', 'pais_Coreia, Republica Sul', 'pais_Costa Rica', 'pais_Costa do Marfim', 'pais_Croácia', 'pais_Cuba', 'pais_Curaçao', 'pais_Dinamarca', 'pais_Dominica', 'pais_El Salvador', 'pais_Emirados Arabes Unidos', 'pais_Equador', 'pais_Eslovaca, Republica', 'pais_Espanha', 'pais_Estados Unidos', 'pais_Estônia', 'pais_Filipinas', 'pais_Finlândia', 'pais_França', 'pais_Gana', 'pais_Gibraltar', 'pais_Granada', 'pais_Grécia', 'pais_Guatemala', 'pais_Guiana', 'pais_Guiana Francesa', 'pais_Guine Bissau', 'pais_Guine Equatorial', 'pais_Haiti', 'pais_Honduras', 'pais_Hong Kong', 'pais_Hungria', 'pais_Ilha de Man', 'pais_Ilhas Virgens', 'pais_India', 'pais_Indonésia', 'pais_Iraque', 'pais_Irlanda', 'pais_Irã', 'pais_Itália', 'pais_Jamaica', 'pais_Japão', 'pais_Jordânia', 'pais_Letônia', 'pais_Libéria', 'pais_Luxemburgo', 'pais_Líbano', 'pais_Macau', 'pais_Malavi', 'pais_Malta', 'pais_Malásia', 'pais_Marshall, Ilhas', 'pais_Martinica', 'pais_Mauritânia', 'pais_Montenegro', 'pais_Moçambique', 'pais_México', 'pais_Namíbia', 'pais_Nicarágua', 'pais_Nigéria', 'pais_Noruega', 'pais_Nova Caledônia', 'pais_Nova Zelândia', 'pais_Omã', 'pais_Palau', 'pais_Panamá', 'pais_Paraguai', 'pais_Países Baixos', 'pais_Peru', 'pais_Pitcairn', 'pais_Polônia', 'pais_Porto Rico', 'pais_Portugal', 'pais_Quênia', 'pais_Reino Unido', 'pais_República Dominicana', 'pais_Rússia', 'pais_Senegal', 'pais_Serra Leoa', 'pais_Singapura', 'pais_Suazilândia', 'pais_Suriname', 'pais_Suécia', 'pais_Suíça', 'pais_São Cristóvão e Névis', 'pais_São Tomé e Príncipe', 'pais_São Vicente e Granadinas', 'pais_Tailândia', 'pais_Taiwan (Formosa)', 'pais_Tanzânia', 'pais_Tcheca, República', 'pais_Togo', 'pais_Toquelau', 'pais_Total', 'pais_Trinidade Tobago', 'pais_Tunísia', 'pais_Turquia', 'pais_Tuvalu', 'pais_Uruguai', 'pais_Vanuatu', 'pais_Venezuela', 'pais_Vietnã', 'pais_África do Sul', 'pais_Áustria']\n"
     ]
    }
   ],
   "source": [
    "print(\"Colunas usadas no treinamento:\", X_train.columns.tolist())"
   ]
  },
  {
   "cell_type": "markdown",
   "metadata": {},
   "source": [
    "### PREDICT"
   ]
  },
  {
   "cell_type": "code",
   "execution_count": 11,
   "metadata": {},
   "outputs": [
    {
     "name": "stdout",
     "output_type": "stream",
     "text": [
      "Previsão para o Brasil em 2025:\n",
      "Valor em USD: -0.09832292161912871\n"
     ]
    },
    {
     "name": "stderr",
     "output_type": "stream",
     "text": [
      "/home/alberone/projects/fiap/ml-engineering/ml-tech-fiap-vitivinicultura-api/venv/lib/python3.12/site-packages/sklearn/utils/validation.py:2739: UserWarning: X does not have valid feature names, but OneHotEncoder was fitted with feature names\n",
      "  warnings.warn(\n"
     ]
    }
   ],
   "source": [
    "# Exemplo de previsão para o ano de 2024 e país \"Brasil\"\n",
    "novo_ano = 2025\n",
    "novo_pais = 'Brasil'\n",
    "\n",
    "# Criar um DataFrame com o ano e a codificação do país\n",
    "novo_pais_encoded = encoder.transform([[novo_pais]])\n",
    "entrada = pd.DataFrame([list([novo_ano]) + list(novo_pais_encoded[0])], columns=X.columns)\n",
    "\n",
    "# Fazer a previsão de quantidade de litros e valor em USD para o novo país e ano\n",
    "valor_previsto = model_rf.predict(entrada)[0]\n",
    "\n",
    "# Exibir os resultados da previsão\n",
    "print(f\"Previsão para o {novo_pais} em {novo_ano}:\")\n",
    "#print(f\"Quantidade de Litros: {quantidade_prevista}\")\n",
    "print(f\"Valor em USD: {valor_previsto}\")\n"
   ]
  },
  {
   "cell_type": "markdown",
   "metadata": {},
   "source": [
    "### SAVE MODEL"
   ]
  },
  {
   "cell_type": "code",
   "execution_count": 12,
   "metadata": {},
   "outputs": [
    {
     "data": {
      "text/plain": [
       "['encoder_exportacao.pkl']"
      ]
     },
     "execution_count": 12,
     "metadata": {},
     "output_type": "execute_result"
    }
   ],
   "source": [
    "# Salvar o modelo treinado em um arquivo\n",
    "joblib.dump(model_rf, 'modelo_exportacao.pkl')\n",
    "# Salvar o encoder (caso necessário)\n",
    "joblib.dump(encoder, 'encoder_exportacao.pkl')"
   ]
  }
 ],
 "metadata": {
  "kernelspec": {
   "display_name": "venv",
   "language": "python",
   "name": "python3"
  },
  "language_info": {
   "codemirror_mode": {
    "name": "ipython",
    "version": 3
   },
   "file_extension": ".py",
   "mimetype": "text/x-python",
   "name": "python",
   "nbconvert_exporter": "python",
   "pygments_lexer": "ipython3",
   "version": "3.12.3"
  }
 },
 "nbformat": 4,
 "nbformat_minor": 2
}
