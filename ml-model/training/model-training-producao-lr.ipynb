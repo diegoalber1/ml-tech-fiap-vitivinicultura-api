{
 "cells": [
  {
   "cell_type": "markdown",
   "metadata": {},
   "source": [
    "### CONFIGURACAO AMBIENTE"
   ]
  },
  {
   "cell_type": "code",
   "execution_count": 1,
   "metadata": {},
   "outputs": [],
   "source": [
    "# Importar as bibliotecas necessárias\n",
    "import pandas as pd\n",
    "import numpy as np\n",
    "import os\n",
    "import joblib\n",
    "import seaborn as sns\n",
    "import matplotlib.pyplot as plt\n",
    "from sklearn.model_selection import train_test_split\n",
    "from sklearn.preprocessing import OneHotEncoder\n",
    "from sklearn.linear_model import LinearRegression\n",
    "from sklearn.metrics import mean_squared_error\n",
    "from sqlalchemy import create_engine\n",
    "\n",
    "# Configurações do banco de dados\n",
    "DB_NAME = \"vitivinicultura_db\"\n",
    "DB_USER = \"postgres\"\n",
    "DB_PASSWORD = \"102030\"\n",
    "DB_HOST = \"localhost\"\n",
    "DB_PORT = \"5432\"\n",
    "\n",
    "# Criar o engine de conexão usando SQLAlchemy\n",
    "connection_string = f\"postgresql://{DB_USER}:{DB_PASSWORD}@{DB_HOST}:{DB_PORT}/{DB_NAME}\"\n",
    "engine = create_engine(connection_string)\n",
    "\n",
    "# Criar uma conexão a partir do engine\n",
    "connection = engine.raw_connection()\n"
   ]
  },
  {
   "cell_type": "markdown",
   "metadata": {},
   "source": [
    "### DATA LOAD"
   ]
  },
  {
   "cell_type": "code",
   "execution_count": 2,
   "metadata": {},
   "outputs": [
    {
     "name": "stderr",
     "output_type": "stream",
     "text": [
      "/tmp/ipykernel_370747/2683005586.py:3: UserWarning: pandas only supports SQLAlchemy connectable (engine/connection) or database string URI or sqlite3 DBAPI2 connection. Other DBAPI2 objects are not tested. Please consider using SQLAlchemy.\n",
      "  df_exportacao = pd.read_sql(query, con=connection)\n"
     ]
    },
    {
     "data": {
      "text/html": [
       "<div>\n",
       "<style scoped>\n",
       "    .dataframe tbody tr th:only-of-type {\n",
       "        vertical-align: middle;\n",
       "    }\n",
       "\n",
       "    .dataframe tbody tr th {\n",
       "        vertical-align: top;\n",
       "    }\n",
       "\n",
       "    .dataframe thead th {\n",
       "        text-align: right;\n",
       "    }\n",
       "</style>\n",
       "<table border=\"1\" class=\"dataframe\">\n",
       "  <thead>\n",
       "    <tr style=\"text-align: right;\">\n",
       "      <th></th>\n",
       "      <th>id</th>\n",
       "      <th>ano</th>\n",
       "      <th>pais</th>\n",
       "      <th>quantidade_litros</th>\n",
       "      <th>valor_usd</th>\n",
       "      <th>data_insercao</th>\n",
       "    </tr>\n",
       "  </thead>\n",
       "  <tbody>\n",
       "    <tr>\n",
       "      <th>0</th>\n",
       "      <td>1</td>\n",
       "      <td>2023</td>\n",
       "      <td>Afeganistão</td>\n",
       "      <td>NaN</td>\n",
       "      <td>NaN</td>\n",
       "      <td>2025-03-30 18:27:41.917881</td>\n",
       "    </tr>\n",
       "    <tr>\n",
       "      <th>1</th>\n",
       "      <td>2</td>\n",
       "      <td>2023</td>\n",
       "      <td>África do Sul</td>\n",
       "      <td>117.0</td>\n",
       "      <td>698.0</td>\n",
       "      <td>2025-03-30 18:27:41.917881</td>\n",
       "    </tr>\n",
       "    <tr>\n",
       "      <th>2</th>\n",
       "      <td>3</td>\n",
       "      <td>2023</td>\n",
       "      <td>Alemanha, República Democrática</td>\n",
       "      <td>4806.0</td>\n",
       "      <td>31853.0</td>\n",
       "      <td>2025-03-30 18:27:41.917881</td>\n",
       "    </tr>\n",
       "    <tr>\n",
       "      <th>3</th>\n",
       "      <td>4</td>\n",
       "      <td>2023</td>\n",
       "      <td>Angola</td>\n",
       "      <td>NaN</td>\n",
       "      <td>NaN</td>\n",
       "      <td>2025-03-30 18:27:41.917881</td>\n",
       "    </tr>\n",
       "    <tr>\n",
       "      <th>4</th>\n",
       "      <td>5</td>\n",
       "      <td>2023</td>\n",
       "      <td>Anguilla</td>\n",
       "      <td>NaN</td>\n",
       "      <td>NaN</td>\n",
       "      <td>2025-03-30 18:27:41.917881</td>\n",
       "    </tr>\n",
       "  </tbody>\n",
       "</table>\n",
       "</div>"
      ],
      "text/plain": [
       "   id   ano                             pais  quantidade_litros  valor_usd  \\\n",
       "0   1  2023                      Afeganistão                NaN        NaN   \n",
       "1   2  2023                    África do Sul              117.0      698.0   \n",
       "2   3  2023  Alemanha, República Democrática             4806.0    31853.0   \n",
       "3   4  2023                           Angola                NaN        NaN   \n",
       "4   5  2023                         Anguilla                NaN        NaN   \n",
       "\n",
       "               data_insercao  \n",
       "0 2025-03-30 18:27:41.917881  \n",
       "1 2025-03-30 18:27:41.917881  \n",
       "2 2025-03-30 18:27:41.917881  \n",
       "3 2025-03-30 18:27:41.917881  \n",
       "4 2025-03-30 18:27:41.917881  "
      ]
     },
     "execution_count": 2,
     "metadata": {},
     "output_type": "execute_result"
    }
   ],
   "source": [
    "# Carregar os dados da tabela de exportação\n",
    "query = \"SELECT * FROM exportacao;\"\n",
    "df_exportacao = pd.read_sql(query, con=connection)\n",
    "\n",
    "# Fechar a conexão\n",
    "connection.close()\n",
    "\n",
    "# Visualizar os primeiros registros dos dados carregados\n",
    "df_exportacao.head()\n"
   ]
  },
  {
   "cell_type": "markdown",
   "metadata": {},
   "source": [
    "### DATA PREPARATION"
   ]
  },
  {
   "cell_type": "code",
   "execution_count": 3,
   "metadata": {},
   "outputs": [
    {
     "data": {
      "text/plain": [
       "id                   0\n",
       "ano                  0\n",
       "pais                 0\n",
       "quantidade_litros    0\n",
       "valor_usd            0\n",
       "data_insercao        0\n",
       "dtype: int64"
      ]
     },
     "execution_count": 3,
     "metadata": {},
     "output_type": "execute_result"
    }
   ],
   "source": [
    "# Substituir \"-\" por NaN nas colunas 'quantidade_litros' e 'valor_usd'\n",
    "df_exportacao['quantidade_litros'] = pd.to_numeric(df_exportacao['quantidade_litros'], errors='coerce')\n",
    "df_exportacao['valor_usd'] = pd.to_numeric(df_exportacao['valor_usd'], errors='coerce')\n",
    "\n",
    "# Remover linhas com valores ausentes (NaN) em 'quantidade_litros' ou 'valor_usd'\n",
    "df_clean = df_exportacao.dropna(subset=['quantidade_litros', 'valor_usd'])\n",
    "\n",
    "# Verificar se há mais dados ausentes após limpeza\n",
    "df_clean.isnull().sum()"
   ]
  },
  {
   "cell_type": "code",
   "execution_count": 4,
   "metadata": {},
   "outputs": [
    {
     "name": "stdout",
     "output_type": "stream",
     "text": [
      "Correlação entre quantidade_litros e valor_usd: 0.97\n"
     ]
    },
    {
     "data": {
      "image/png": "[encoded data removed]",
      "text/plain": [
       "<Figure size 800x600 with 1 Axes>"
      ]
     },
     "metadata": {},
     "output_type": "display_data"
    }
   ],
   "source": [
    "# Calcular a correlação\n",
    "correlacao = df_clean[['quantidade_litros', 'valor_usd']].corr().iloc[0, 1]\n",
    "print(f\"Correlação entre quantidade_litros e valor_usd: {correlacao:.2f}\")\n",
    "\n",
    "# Scatter plot com linha de tendência\n",
    "plt.figure(figsize=(8, 6))\n",
    "sns.regplot(data=df_clean, x='quantidade_litros', y='valor_usd', ci=None, line_kws={\"color\": \"red\"})\n",
    "plt.title(f\"Relação entre Quantidade de Litros e Valor USD\\nCorrelação: {correlacao:.2f}\")\n",
    "plt.xlabel(\"Quantidade de Litros\")\n",
    "plt.ylabel(\"Valor USD\")\n",
    "plt.grid()\n",
    "plt.show()"
   ]
  },
  {
   "cell_type": "markdown",
   "metadata": {},
   "source": [
    "#### GERAR DADOS SINTETICOS E ADICIONAR RUIDOS"
   ]
  },
  {
   "cell_type": "code",
   "execution_count": 5,
   "metadata": {},
   "outputs": [
    {
     "data": {
      "text/html": [
       "<div>\n",
       "<style scoped>\n",
       "    .dataframe tbody tr th:only-of-type {\n",
       "        vertical-align: middle;\n",
       "    }\n",
       "\n",
       "    .dataframe tbody tr th {\n",
       "        vertical-align: top;\n",
       "    }\n",
       "\n",
       "    .dataframe thead th {\n",
       "        text-align: right;\n",
       "    }\n",
       "</style>\n",
       "<table border=\"1\" class=\"dataframe\">\n",
       "  <thead>\n",
       "    <tr style=\"text-align: right;\">\n",
       "      <th></th>\n",
       "      <th>id</th>\n",
       "      <th>ano</th>\n",
       "      <th>pais</th>\n",
       "      <th>quantidade_litros</th>\n",
       "      <th>valor_usd</th>\n",
       "      <th>data_insercao</th>\n",
       "    </tr>\n",
       "  </thead>\n",
       "  <tbody>\n",
       "    <tr>\n",
       "      <th>0</th>\n",
       "      <td>2.0</td>\n",
       "      <td>2023</td>\n",
       "      <td>África do Sul</td>\n",
       "      <td>117.0</td>\n",
       "      <td>698.0</td>\n",
       "      <td>2025-03-30 18:27:41.917881</td>\n",
       "    </tr>\n",
       "    <tr>\n",
       "      <th>1</th>\n",
       "      <td>3.0</td>\n",
       "      <td>2023</td>\n",
       "      <td>Alemanha, República Democrática</td>\n",
       "      <td>4806.0</td>\n",
       "      <td>31853.0</td>\n",
       "      <td>2025-03-30 18:27:41.917881</td>\n",
       "    </tr>\n",
       "    <tr>\n",
       "      <th>2</th>\n",
       "      <td>6.0</td>\n",
       "      <td>2023</td>\n",
       "      <td>Antígua e Barbuda</td>\n",
       "      <td>383.0</td>\n",
       "      <td>1848.0</td>\n",
       "      <td>2025-03-30 18:27:41.917881</td>\n",
       "    </tr>\n",
       "    <tr>\n",
       "      <th>3</th>\n",
       "      <td>8.0</td>\n",
       "      <td>2023</td>\n",
       "      <td>Arábia Saudita</td>\n",
       "      <td>124.0</td>\n",
       "      <td>142.0</td>\n",
       "      <td>2025-03-30 18:27:41.917881</td>\n",
       "    </tr>\n",
       "    <tr>\n",
       "      <th>4</th>\n",
       "      <td>9.0</td>\n",
       "      <td>2023</td>\n",
       "      <td>Argentina</td>\n",
       "      <td>4545.0</td>\n",
       "      <td>36133.0</td>\n",
       "      <td>2025-03-30 18:27:41.917881</td>\n",
       "    </tr>\n",
       "  </tbody>\n",
       "</table>\n",
       "</div>"
      ],
      "text/plain": [
       "    id   ano                             pais  quantidade_litros  valor_usd  \\\n",
       "0  2.0  2023                    África do Sul              117.0      698.0   \n",
       "1  3.0  2023  Alemanha, República Democrática             4806.0    31853.0   \n",
       "2  6.0  2023                Antígua e Barbuda              383.0     1848.0   \n",
       "3  8.0  2023                   Arábia Saudita              124.0      142.0   \n",
       "4  9.0  2023                        Argentina             4545.0    36133.0   \n",
       "\n",
       "               data_insercao  \n",
       "0 2025-03-30 18:27:41.917881  \n",
       "1 2025-03-30 18:27:41.917881  \n",
       "2 2025-03-30 18:27:41.917881  \n",
       "3 2025-03-30 18:27:41.917881  \n",
       "4 2025-03-30 18:27:41.917881  "
      ]
     },
     "execution_count": 5,
     "metadata": {},
     "output_type": "execute_result"
    }
   ],
   "source": [
    "# Gerar dados sintéticos a partir do dataframe original\n",
    "def gerar_dados_sinteticos(df_original, num_novos_dados):\n",
    "    # Inicializar uma lista para armazenar os novos dados\n",
    "    dados_sinteticos = []\n",
    "\n",
    "    for _ in range(num_novos_dados):\n",
    "        # Seleciona um registro aleatório do dataframe original\n",
    "        sample = df_original.sample(n=1, random_state=np.random.randint(0, 10000))\n",
    "\n",
    "        # Adiciona ruído nas variáveis 'quantidade_litros' e 'valor_usd'\n",
    "        ruido_quantidade = np.random.normal(loc=0, scale=sample['quantidade_litros'].values[0] * 0.1)\n",
    "        ruido_valor = np.random.normal(loc=0, scale=sample['valor_usd'].values[0] * 0.1)\n",
    "\n",
    "        # Cria uma nova amostra com o ruído\n",
    "        novo_dado = {\n",
    "            'ano': sample['ano'].values[0],\n",
    "            'pais': sample['pais'].values[0],\n",
    "            'quantidade_litros': sample['quantidade_litros'].values[0] + ruido_quantidade,\n",
    "            'valor_usd': sample['valor_usd'].values[0] + ruido_valor\n",
    "        }\n",
    "\n",
    "        # Adiciona a nova amostra à lista de dados sintéticos\n",
    "        dados_sinteticos.append(novo_dado)\n",
    "\n",
    "    # Converter a lista de dados sintéticos para um DataFrame\n",
    "    df_sintetico = pd.DataFrame(dados_sinteticos)\n",
    "\n",
    "    return df_sintetico\n",
    "\n",
    "# Gerar 1000 novos registros sintéticos\n",
    "df_novos_dados = gerar_dados_sinteticos(df_clean, 1000)\n",
    "\n",
    "# Concatenar os dados reais com os dados sintéticos\n",
    "df_clean = pd.concat([df_clean, df_novos_dados], ignore_index=True)\n",
    "\n",
    "# Verificar o DataFrame final\n",
    "df_clean.head()\n"
   ]
  },
  {
   "cell_type": "code",
   "execution_count": 6,
   "metadata": {},
   "outputs": [
    {
     "name": "stdout",
     "output_type": "stream",
     "text": [
      "Correlação entre quantidade_litros e valor_usd: 0.96\n"
     ]
    },
    {
     "data": {
      "image/png": "[encoded data removed]",
      "text/plain": [
       "<Figure size 800x600 with 1 Axes>"
      ]
     },
     "metadata": {},
     "output_type": "display_data"
    }
   ],
   "source": [
    "# Calcular a correlação\n",
    "correlacao = df_clean[['quantidade_litros', 'valor_usd']].corr().iloc[0, 1]\n",
    "print(f\"Correlação entre quantidade_litros e valor_usd: {correlacao:.2f}\")\n",
    "\n",
    "# Scatter plot com linha de tendência\n",
    "plt.figure(figsize=(8, 6))\n",
    "sns.regplot(data=df_clean, x='quantidade_litros', y='valor_usd', ci=None, line_kws={\"color\": \"red\"})\n",
    "plt.title(f\"Relação entre Quantidade de Litros e Valor USD\\nCorrelação: {correlacao:.2f}\")\n",
    "plt.xlabel(\"Quantidade de Litros\")\n",
    "plt.ylabel(\"Valor USD\")\n",
    "plt.grid()\n",
    "plt.show()"
   ]
  },
  {
   "cell_type": "code",
   "execution_count": 7,
   "metadata": {},
   "outputs": [
    {
     "data": {
      "text/html": [
       "<div>\n",
       "<style scoped>\n",
       "    .dataframe tbody tr th:only-of-type {\n",
       "        vertical-align: middle;\n",
       "    }\n",
       "\n",
       "    .dataframe tbody tr th {\n",
       "        vertical-align: top;\n",
       "    }\n",
       "\n",
       "    .dataframe thead th {\n",
       "        text-align: right;\n",
       "    }\n",
       "</style>\n",
       "<table border=\"1\" class=\"dataframe\">\n",
       "  <thead>\n",
       "    <tr style=\"text-align: right;\">\n",
       "      <th></th>\n",
       "      <th>ano</th>\n",
       "      <th>quantidade_litros</th>\n",
       "      <th>valor_usd</th>\n",
       "      <th>pais_Afeganistão</th>\n",
       "      <th>pais_Alemanha, República Democrática</th>\n",
       "      <th>pais_Angola</th>\n",
       "      <th>pais_Antilhas Holandesas</th>\n",
       "      <th>pais_Antígua e Barbuda</th>\n",
       "      <th>pais_Argentina</th>\n",
       "      <th>pais_Aruba</th>\n",
       "      <th>...</th>\n",
       "      <th>pais_Total</th>\n",
       "      <th>pais_Trinidade Tobago</th>\n",
       "      <th>pais_Turquia</th>\n",
       "      <th>pais_Tuvalu</th>\n",
       "      <th>pais_Uruguai</th>\n",
       "      <th>pais_Vanuatu</th>\n",
       "      <th>pais_Venezuela</th>\n",
       "      <th>pais_Vietnã</th>\n",
       "      <th>pais_África do Sul</th>\n",
       "      <th>pais_Áustria</th>\n",
       "    </tr>\n",
       "  </thead>\n",
       "  <tbody>\n",
       "    <tr>\n",
       "      <th>0</th>\n",
       "      <td>2023</td>\n",
       "      <td>117.0</td>\n",
       "      <td>698.0</td>\n",
       "      <td>0.0</td>\n",
       "      <td>0.0</td>\n",
       "      <td>0.0</td>\n",
       "      <td>0.0</td>\n",
       "      <td>0.0</td>\n",
       "      <td>0.0</td>\n",
       "      <td>0.0</td>\n",
       "      <td>...</td>\n",
       "      <td>0.0</td>\n",
       "      <td>0.0</td>\n",
       "      <td>0.0</td>\n",
       "      <td>0.0</td>\n",
       "      <td>0.0</td>\n",
       "      <td>0.0</td>\n",
       "      <td>0.0</td>\n",
       "      <td>0.0</td>\n",
       "      <td>1.0</td>\n",
       "      <td>0.0</td>\n",
       "    </tr>\n",
       "    <tr>\n",
       "      <th>1</th>\n",
       "      <td>2023</td>\n",
       "      <td>4806.0</td>\n",
       "      <td>31853.0</td>\n",
       "      <td>0.0</td>\n",
       "      <td>1.0</td>\n",
       "      <td>0.0</td>\n",
       "      <td>0.0</td>\n",
       "      <td>0.0</td>\n",
       "      <td>0.0</td>\n",
       "      <td>0.0</td>\n",
       "      <td>...</td>\n",
       "      <td>0.0</td>\n",
       "      <td>0.0</td>\n",
       "      <td>0.0</td>\n",
       "      <td>0.0</td>\n",
       "      <td>0.0</td>\n",
       "      <td>0.0</td>\n",
       "      <td>0.0</td>\n",
       "      <td>0.0</td>\n",
       "      <td>0.0</td>\n",
       "      <td>0.0</td>\n",
       "    </tr>\n",
       "    <tr>\n",
       "      <th>2</th>\n",
       "      <td>2023</td>\n",
       "      <td>383.0</td>\n",
       "      <td>1848.0</td>\n",
       "      <td>0.0</td>\n",
       "      <td>0.0</td>\n",
       "      <td>0.0</td>\n",
       "      <td>0.0</td>\n",
       "      <td>1.0</td>\n",
       "      <td>0.0</td>\n",
       "      <td>0.0</td>\n",
       "      <td>...</td>\n",
       "      <td>0.0</td>\n",
       "      <td>0.0</td>\n",
       "      <td>0.0</td>\n",
       "      <td>0.0</td>\n",
       "      <td>0.0</td>\n",
       "      <td>0.0</td>\n",
       "      <td>0.0</td>\n",
       "      <td>0.0</td>\n",
       "      <td>0.0</td>\n",
       "      <td>0.0</td>\n",
       "    </tr>\n",
       "    <tr>\n",
       "      <th>3</th>\n",
       "      <td>2023</td>\n",
       "      <td>124.0</td>\n",
       "      <td>142.0</td>\n",
       "      <td>0.0</td>\n",
       "      <td>0.0</td>\n",
       "      <td>0.0</td>\n",
       "      <td>0.0</td>\n",
       "      <td>0.0</td>\n",
       "      <td>0.0</td>\n",
       "      <td>0.0</td>\n",
       "      <td>...</td>\n",
       "      <td>0.0</td>\n",
       "      <td>0.0</td>\n",
       "      <td>0.0</td>\n",
       "      <td>0.0</td>\n",
       "      <td>0.0</td>\n",
       "      <td>0.0</td>\n",
       "      <td>0.0</td>\n",
       "      <td>0.0</td>\n",
       "      <td>0.0</td>\n",
       "      <td>0.0</td>\n",
       "    </tr>\n",
       "    <tr>\n",
       "      <th>4</th>\n",
       "      <td>2023</td>\n",
       "      <td>4545.0</td>\n",
       "      <td>36133.0</td>\n",
       "      <td>0.0</td>\n",
       "      <td>0.0</td>\n",
       "      <td>0.0</td>\n",
       "      <td>0.0</td>\n",
       "      <td>0.0</td>\n",
       "      <td>1.0</td>\n",
       "      <td>0.0</td>\n",
       "      <td>...</td>\n",
       "      <td>0.0</td>\n",
       "      <td>0.0</td>\n",
       "      <td>0.0</td>\n",
       "      <td>0.0</td>\n",
       "      <td>0.0</td>\n",
       "      <td>0.0</td>\n",
       "      <td>0.0</td>\n",
       "      <td>0.0</td>\n",
       "      <td>0.0</td>\n",
       "      <td>0.0</td>\n",
       "    </tr>\n",
       "  </tbody>\n",
       "</table>\n",
       "<p>5 rows × 124 columns</p>\n",
       "</div>"
      ],
      "text/plain": [
       "    ano  quantidade_litros  valor_usd  pais_Afeganistão  \\\n",
       "0  2023              117.0      698.0               0.0   \n",
       "1  2023             4806.0    31853.0               0.0   \n",
       "2  2023              383.0     1848.0               0.0   \n",
       "3  2023              124.0      142.0               0.0   \n",
       "4  2023             4545.0    36133.0               0.0   \n",
       "\n",
       "   pais_Alemanha, República Democrática  pais_Angola  \\\n",
       "0                                   0.0          0.0   \n",
       "1                                   1.0          0.0   \n",
       "2                                   0.0          0.0   \n",
       "3                                   0.0          0.0   \n",
       "4                                   0.0          0.0   \n",
       "\n",
       "   pais_Antilhas Holandesas  pais_Antígua e Barbuda  pais_Argentina  \\\n",
       "0                       0.0                     0.0             0.0   \n",
       "1                       0.0                     0.0             0.0   \n",
       "2                       0.0                     1.0             0.0   \n",
       "3                       0.0                     0.0             0.0   \n",
       "4                       0.0                     0.0             1.0   \n",
       "\n",
       "   pais_Aruba  ...  pais_Total  pais_Trinidade Tobago  pais_Turquia  \\\n",
       "0         0.0  ...         0.0                    0.0           0.0   \n",
       "1         0.0  ...         0.0                    0.0           0.0   \n",
       "2         0.0  ...         0.0                    0.0           0.0   \n",
       "3         0.0  ...         0.0                    0.0           0.0   \n",
       "4         0.0  ...         0.0                    0.0           0.0   \n",
       "\n",
       "   pais_Tuvalu  pais_Uruguai  pais_Vanuatu  pais_Venezuela  pais_Vietnã  \\\n",
       "0          0.0           0.0           0.0             0.0          0.0   \n",
       "1          0.0           0.0           0.0             0.0          0.0   \n",
       "2          0.0           0.0           0.0             0.0          0.0   \n",
       "3          0.0           0.0           0.0             0.0          0.0   \n",
       "4          0.0           0.0           0.0             0.0          0.0   \n",
       "\n",
       "   pais_África do Sul  pais_Áustria  \n",
       "0                 1.0           0.0  \n",
       "1                 0.0           0.0  \n",
       "2                 0.0           0.0  \n",
       "3                 0.0           0.0  \n",
       "4                 0.0           0.0  \n",
       "\n",
       "[5 rows x 124 columns]"
      ]
     },
     "execution_count": 7,
     "metadata": {},
     "output_type": "execute_result"
    }
   ],
   "source": [
    "# Codificar os países usando OneHotEncoder\n",
    "encoder = OneHotEncoder(sparse_output=False)\n",
    "\n",
    "# Codificar a coluna 'pais'\n",
    "pais_encoded = encoder.fit_transform(df_clean[['pais']])\n",
    "\n",
    "# Criar um DataFrame com as variáveis codificadas\n",
    "pais_encoded_df = pd.DataFrame(pais_encoded, columns=encoder.get_feature_names_out(['pais']))\n",
    "\n",
    "# Concatenar as variáveis codificadas com os dados numéricos\n",
    "df_encoded = pd.concat([df_clean[['ano', 'quantidade_litros', 'valor_usd']], pais_encoded_df], axis=1)\n",
    "\n",
    "# Exibir as primeiras linhas do DataFrame codificado\n",
    "df_encoded.head()"
   ]
  },
  {
   "cell_type": "code",
   "execution_count": 8,
   "metadata": {},
   "outputs": [
    {
     "name": "stdout",
     "output_type": "stream",
     "text": [
      "Index(['ano', 'quantidade_litros', 'valor_usd', 'pais_Afeganistão',\n",
      "       'pais_Alemanha, República Democrática', 'pais_Angola',\n",
      "       'pais_Antilhas Holandesas', 'pais_Antígua e Barbuda', 'pais_Argentina',\n",
      "       'pais_Aruba',\n",
      "       ...\n",
      "       'pais_Total', 'pais_Trinidade Tobago', 'pais_Turquia', 'pais_Tuvalu',\n",
      "       'pais_Uruguai', 'pais_Vanuatu', 'pais_Venezuela', 'pais_Vietnã',\n",
      "       'pais_África do Sul', 'pais_Áustria'],\n",
      "      dtype='object', length=124)\n"
     ]
    }
   ],
   "source": [
    "print(df_encoded.columns)"
   ]
  },
  {
   "cell_type": "code",
   "execution_count": 9,
   "metadata": {},
   "outputs": [],
   "source": [
    "# Definir as variáveis de entrada (X) e as variáveis de saída (y)\n",
    "X = df_encoded.drop(columns=['quantidade_litros', 'valor_usd'])  # Remover as colunas de saída\n",
    "y = df_encoded[['quantidade_litros', 'valor_usd']]  # Colunas de saída\n",
    "\n",
    "#y = df_encoded['valor_usd'] # Colunas de saída\n"
   ]
  },
  {
   "cell_type": "code",
   "execution_count": 10,
   "metadata": {},
   "outputs": [
    {
     "name": "stdout",
     "output_type": "stream",
     "text": [
      "Dimensões do conjunto de treino X: (1252, 122)\n",
      "Dimensões do conjunto de teste X: (313, 122)\n",
      "Dimensões do conjunto de treino y: (1252, 2)\n",
      "Dimensões do conjunto de teste y: (313, 2)\n"
     ]
    }
   ],
   "source": [
    "\n",
    "# Dividir os dados em conjunto de treino e teste (80% treino, 20% teste)\n",
    "X_train, X_test, y_train, y_test = train_test_split(X, y, test_size=0.2, random_state=42)\n",
    "\n",
    "\n",
    "# Preencher valores NaN com a média das colunas\n",
    "X_train = X_train.fillna(X_train.mean())\n",
    "y_train = y_train.fillna(y_train.mean())\n",
    "X_test = X_test.fillna(X_test.mean())\n",
    "y_test = y_test.fillna(y_test.mean())\n",
    "\n",
    "\n",
    "# Exibir as dimensões dos conjuntos de treino e teste\n",
    "print(f\"Dimensões do conjunto de treino X: {X_train.shape}\")\n",
    "print(f\"Dimensões do conjunto de teste X: {X_test.shape}\")\n",
    "print(f\"Dimensões do conjunto de treino y: {y_train.shape}\")\n",
    "print(f\"Dimensões do conjunto de teste y: {y_test.shape}\")\n"
   ]
  },
  {
   "cell_type": "markdown",
   "metadata": {},
   "source": [
    "## MODEL TRAINING"
   ]
  },
  {
   "cell_type": "markdown",
   "metadata": {},
   "source": [
    "#### TRAINING (LINEAR REGRESSION)"
   ]
  },
  {
   "cell_type": "code",
   "execution_count": 11,
   "metadata": {},
   "outputs": [
    {
     "name": "stdout",
     "output_type": "stream",
     "text": [
      "Coeficientes do modelo: [[ 2.68383604e+04 -9.58199850e+04 -4.78478588e+04  2.78549286e+04\n",
      "   5.71592205e+04 -7.48214860e+04 -5.93757622e+04  9.24688290e+04\n",
      "  -1.49383824e+05 -1.88306958e+04 -7.88189292e+04 -1.06561040e+05\n",
      "  -1.15855189e+05 -1.02600841e+05 -4.21453826e+04  1.46383804e+04\n",
      "  -1.49492583e+05 -4.24787627e+04 -1.07974861e+05 -1.22664593e+05\n",
      "  -1.03777152e+04 -6.89497359e+04 -6.89767770e+04 -7.21772624e+03\n",
      "  -2.39874187e+03 -1.00310999e+05 -7.96079645e+04 -9.09923995e+04\n",
      "   3.22311967e+04 -7.16732990e+04  1.30890310e+04 -1.22643395e+05\n",
      "  -6.31313553e+04 -6.89839383e+04 -1.33878012e+05 -8.23438939e+04\n",
      "  -1.15928191e+05  6.05959557e+04 -5.88623268e+04 -3.09065906e+04\n",
      "  -1.08309080e+05 -2.49293677e+04 -8.99445082e+04 -6.30303012e+04\n",
      "   2.01611937e+05  3.92606985e+04 -7.54197218e+04  6.00217781e+04\n",
      "  -1.76399214e+04 -5.63585986e+04 -5.51782328e+04 -1.17121236e+05\n",
      "  -9.44630652e+04 -1.02461730e+05 -8.30120652e+04 -1.15920972e+05\n",
      "   1.15676992e+04  8.87310133e+03  2.66807975e+05 -3.19996415e+04\n",
      "  -9.57504775e+04 -8.29769376e+04 -9.25916074e+04 -1.49498956e+05\n",
      "  -7.96852247e+04 -9.57692936e+04 -3.47661610e+04  2.81243151e+04\n",
      "  -6.89801464e+04 -9.56963393e+04 -6.09776425e+04  4.24402074e+03\n",
      "  -1.49500824e+05 -1.45826636e+05 -8.28117198e+04 -3.31719484e+04\n",
      "  -7.84905002e+04  1.81898940e-12 -9.58214955e+04 -6.89827353e+04\n",
      "  -1.22273375e+05 -4.16530534e+04 -4.54720509e+04 -5.68043255e+04\n",
      "  -8.86724861e+04 -1.87099772e+04 -1.22475464e+05 -1.49464082e+05\n",
      "  -8.21508863e+04  2.99439984e+06 -5.77743015e+02 -7.42987157e+04\n",
      "  -1.49497281e+05 -2.84534519e+04 -2.76815195e+04 -6.45589127e+04\n",
      "   1.48503028e+04  1.02056695e+05 -7.24815970e+04 -1.24324752e+05\n",
      "  -9.58209136e+04 -1.79263743e+04 -3.33892083e+04 -1.86866613e+04\n",
      "   2.27373675e-12 -1.31845632e+04 -1.18813932e+05 -6.68213966e+04\n",
      "  -2.37318981e+04 -5.27162906e+04 -1.01356003e+05 -1.49504687e+05\n",
      "   3.27799171e+06  9.23820479e+04 -7.97303318e+04 -6.89906430e+04\n",
      "   1.20148403e+05 -6.89762518e+04 -2.16500577e+04 -9.30743401e+04\n",
      "  -1.18739380e+05 -6.87735105e+04]\n",
      " [ 2.70902544e+04 -1.53080304e+05 -7.31874559e+04 -6.76141016e+03\n",
      "   5.89042612e+03 -1.30892315e+05 -8.54694056e+04  3.72358420e+04\n",
      "  -2.07167645e+05 -6.30723850e+04 -1.32976115e+05 -1.63905230e+05\n",
      "  -1.72978888e+05 -1.58814325e+05 -9.89196277e+04 -3.18313736e+04\n",
      "  -2.07160142e+05 -8.92676153e+04 -1.66190965e+05 -1.80187074e+05\n",
      "  -6.58687545e+02 -1.25988979e+05 -1.25932107e+05 -5.94733316e+04\n",
      "  -1.00157769e+04 -1.50074524e+05 -1.36217728e+05 -1.47275708e+05\n",
      "   1.77674182e+05 -1.26536153e+05 -3.66131735e+04 -1.80160314e+05\n",
      "  -1.12532089e+05 -1.26013013e+05 -1.77577999e+05 -1.39385657e+05\n",
      "  -1.73021086e+05  8.41661946e+03 -9.26155553e+04 -8.14503123e+04\n",
      "  -1.65177224e+05 -7.02861754e+04 -1.46982466e+05 -1.13598670e+05\n",
      "   5.63996892e+05 -1.28778644e+04 -1.29497265e+05  6.69775434e+04\n",
      "  -4.01848277e+04 -1.05587307e+05 -1.11008520e+05 -1.72486473e+05\n",
      "  -1.49374124e+05 -1.53378582e+05 -1.32247446e+05 -1.73425316e+05\n",
      "  -4.46679396e+04 -2.29695325e+04  3.32704553e+05 -5.91752656e+04\n",
      "  -1.52522624e+05 -1.39345971e+05 -1.49590415e+05 -2.07281513e+05\n",
      "  -1.32217740e+05 -1.52992645e+05 -8.39079302e+04  5.88941720e+04\n",
      "  -1.25985539e+05 -1.51882641e+05 -1.04641975e+05 -3.51353707e+04\n",
      "  -2.07303645e+05 -2.01071697e+05 -1.30918464e+05 -8.98429922e+04\n",
      "  -1.21592177e+05  1.63709046e-11 -1.53034622e+05 -1.26000805e+05\n",
      "  -1.78347854e+05 -9.34294219e+04 -8.52545421e+04 -9.98566978e+04\n",
      "  -1.40474270e+05 -7.02347576e+04 -1.79549391e+05 -2.07170577e+05\n",
      "  -1.05212695e+05  4.38362076e+06  5.18070640e+04 -1.10923144e+05\n",
      "  -2.07286299e+05 -7.21941099e+04 -6.08671810e+04 -1.10481889e+05\n",
      "   1.65422314e+05  4.27231657e+04 -1.25694688e+05 -1.70815999e+05\n",
      "  -1.53108905e+05 -7.36611985e+04 -7.27731660e+04 -2.05113346e+04\n",
      "   6.82121026e-12 -6.96261073e+04 -1.76276113e+05 -1.23121924e+05\n",
      "  -6.23738432e+04 -9.88989856e+04 -1.56043715e+05 -2.07299732e+05\n",
      "   6.42866054e+06  3.81673589e+04 -1.25216995e+05 -1.26034930e+05\n",
      "   1.30419123e+05 -1.26008788e+05 -4.19393832e+04 -1.50183161e+05\n",
      "  -1.75842367e+05 -1.24298158e+05]]\n"
     ]
    }
   ],
   "source": [
    "# Criar o modelo de Regressão Linear\n",
    "model = LinearRegression()\n",
    "\n",
    "# Treinar o modelo com os dados de treino\n",
    "model.fit(X_train, y_train)\n",
    "\n",
    "# Exibir os coeficientes do modelo treinado\n",
    "print(f\"Coeficientes do modelo: {model.coef_}\")"
   ]
  },
  {
   "cell_type": "markdown",
   "metadata": {},
   "source": [
    "#### EVALUATE MODEL"
   ]
  },
  {
   "cell_type": "code",
   "execution_count": 12,
   "metadata": {},
   "outputs": [
    {
     "name": "stdout",
     "output_type": "stream",
     "text": [
      "Erro Quadrático Médio (MSE): 84396949877.61539\n"
     ]
    }
   ],
   "source": [
    "# Fazer previsões com os dados de teste\n",
    "y_pred = model.predict(X_test)\n",
    "\n",
    "# Calcular o erro quadrático médio (MSE)\n",
    "mse = mean_squared_error(y_test, y_pred)\n",
    "\n",
    "# Exibir o MSE\n",
    "print(f\"Erro Quadrático Médio (MSE): {mse}\")"
   ]
  },
  {
   "cell_type": "markdown",
   "metadata": {},
   "source": [
    "### PREDICT"
   ]
  },
  {
   "cell_type": "code",
   "execution_count": 13,
   "metadata": {},
   "outputs": [
    {
     "name": "stdout",
     "output_type": "stream",
     "text": [
      "Previsão para o Brasil em 2025:\n",
      "Quantidade de Litros: 95209.68354953825\n",
      "Valor em USD: 95299.18951192498\n"
     ]
    },
    {
     "name": "stderr",
     "output_type": "stream",
     "text": [
      "/home/alberone/projects/fiap/ml-engineering/ml-tech-fiap-vitivinicultura-api/venv/lib/python3.12/site-packages/sklearn/utils/validation.py:2739: UserWarning: X does not have valid feature names, but OneHotEncoder was fitted with feature names\n",
      "  warnings.warn(\n"
     ]
    }
   ],
   "source": [
    "# Exemplo de previsão para o ano de 2024 e país \"Brasil\"\n",
    "novo_ano = 2025\n",
    "novo_pais = 'Brasil'\n",
    "\n",
    "# Criar um DataFrame com o ano e a codificação do país\n",
    "novo_pais_encoded = encoder.transform([[novo_pais]])\n",
    "entrada = pd.DataFrame([list([novo_ano]) + list(novo_pais_encoded[0])], columns=X.columns)\n",
    "\n",
    "# Fazer a previsão de quantidade de litros e valor em USD para o novo país e ano\n",
    "quantidade_prevista, valor_previsto = model.predict(entrada)[0]\n",
    "\n",
    "# Exibir os resultados da previsão\n",
    "print(f\"Previsão para o {novo_pais} em {novo_ano}:\")\n",
    "print(f\"Quantidade de Litros: {quantidade_prevista}\")\n",
    "print(f\"Valor em USD: {valor_previsto}\")\n"
   ]
  },
  {
   "cell_type": "markdown",
   "metadata": {},
   "source": [
    "### SAVE MODEL"
   ]
  },
  {
   "cell_type": "code",
   "execution_count": null,
   "metadata": {},
   "outputs": [
    {
     "data": {
      "text/plain": [
       "['encoder_exportacao.pkl']"
      ]
     },
     "execution_count": 14,
     "metadata": {},
     "output_type": "execute_result"
    }
   ],
   "source": [
    "\n",
    "# Caminho relativo à raiz do projeto\n",
    "root_dir = os.path.dirname(os.path.abspath(__file__))  # Diretório raiz do projeto\n",
    "save_dir = os.path.join(root_dir, 'ml-model', 'production')\n",
    "\n",
    "# Certifique-se de que o diretório existe, caso contrário, crie-o\n",
    "os.makedirs(save_dir, exist_ok=True)\n",
    "\n",
    "# Caminhos completos para os arquivos\n",
    "model_path = os.path.join(save_dir, 'modelo_exportacao.pkl')\n",
    "encoder_path = os.path.join(save_dir, 'encoder_exportacao.pkl')\n",
    "\n",
    "# Salvar o modelo treinado e o encoder\n",
    "joblib.dump(model, model_path)\n",
    "joblib.dump(encoder, encoder_path)\n",
    "\n",
    "print(f\"Modelo salvo em: {model_path}\")\n",
    "print(f\"Encoder salvo em: {encoder_path}\")"
   ]
  }
 ],
 "metadata": {
  "kernelspec": {
   "display_name": "venv",
   "language": "python",
   "name": "python3"
  },
  "language_info": {
   "codemirror_mode": {
    "name": "ipython",
    "version": 3
   },
   "file_extension": ".py",
   "mimetype": "text/x-python",
   "name": "python",
   "nbconvert_exporter": "python",
   "pygments_lexer": "ipython3",
   "version": "3.12.3"
  }
 },
 "nbformat": 4,
 "nbformat_minor": 2
}
