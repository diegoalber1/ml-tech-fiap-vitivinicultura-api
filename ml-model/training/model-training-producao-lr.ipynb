{
 "cells": [
  {
   "cell_type": "markdown",
   "metadata": {},
   "source": [
    "### CONFIGURACAO AMBIENTE"
   ]
  },
  {
   "cell_type": "code",
   "execution_count": 1,
   "metadata": {},
   "outputs": [],
   "source": [
    "# Importar as bibliotecas necessárias\n",
    "import pandas as pd\n",
    "import numpy as np\n",
    "import os\n",
    "import joblib\n",
    "import seaborn as sns\n",
    "import matplotlib.pyplot as plt\n",
    "from sklearn.model_selection import train_test_split\n",
    "from sklearn.preprocessing import OneHotEncoder\n",
    "from sklearn.linear_model import LinearRegression\n",
    "from sklearn.metrics import mean_squared_error\n",
    "from sqlalchemy import create_engine\n",
    "\n",
    "# Configurações do banco de dados\n",
    "DB_NAME = \"vitivinicultura_db\"\n",
    "DB_USER = \"postgres\"\n",
    "DB_PASSWORD = \"102030\"\n",
    "DB_HOST = \"localhost\"\n",
    "DB_PORT = \"5432\"\n",
    "\n",
    "# Criar o engine de conexão usando SQLAlchemy\n",
    "connection_string = f\"postgresql://{DB_USER}:{DB_PASSWORD}@{DB_HOST}:{DB_PORT}/{DB_NAME}\"\n",
    "engine = create_engine(connection_string)\n",
    "\n",
    "# Criar uma conexão a partir do engine\n",
    "connection = engine.raw_connection()\n"
   ]
  },
  {
   "cell_type": "markdown",
   "metadata": {},
   "source": [
    "### DATA LOAD"
   ]
  },
  {
   "cell_type": "code",
   "execution_count": 2,
   "metadata": {},
   "outputs": [
    {
     "name": "stderr",
     "output_type": "stream",
     "text": [
      "/tmp/ipykernel_376519/2683005586.py:3: UserWarning: pandas only supports SQLAlchemy connectable (engine/connection) or database string URI or sqlite3 DBAPI2 connection. Other DBAPI2 objects are not tested. Please consider using SQLAlchemy.\n",
      "  df_exportacao = pd.read_sql(query, con=connection)\n"
     ]
    },
    {
     "data": {
      "text/html": [
       "<div>\n",
       "<style scoped>\n",
       "    .dataframe tbody tr th:only-of-type {\n",
       "        vertical-align: middle;\n",
       "    }\n",
       "\n",
       "    .dataframe tbody tr th {\n",
       "        vertical-align: top;\n",
       "    }\n",
       "\n",
       "    .dataframe thead th {\n",
       "        text-align: right;\n",
       "    }\n",
       "</style>\n",
       "<table border=\"1\" class=\"dataframe\">\n",
       "  <thead>\n",
       "    <tr style=\"text-align: right;\">\n",
       "      <th></th>\n",
       "      <th>id</th>\n",
       "      <th>ano</th>\n",
       "      <th>pais</th>\n",
       "      <th>quantidade_litros</th>\n",
       "      <th>valor_usd</th>\n",
       "      <th>data_insercao</th>\n",
       "    </tr>\n",
       "  </thead>\n",
       "  <tbody>\n",
       "    <tr>\n",
       "      <th>0</th>\n",
       "      <td>1</td>\n",
       "      <td>2023</td>\n",
       "      <td>Afeganistão</td>\n",
       "      <td>NaN</td>\n",
       "      <td>NaN</td>\n",
       "      <td>2025-03-30 18:27:41.917881</td>\n",
       "    </tr>\n",
       "    <tr>\n",
       "      <th>1</th>\n",
       "      <td>2</td>\n",
       "      <td>2023</td>\n",
       "      <td>África do Sul</td>\n",
       "      <td>117.0</td>\n",
       "      <td>698.0</td>\n",
       "      <td>2025-03-30 18:27:41.917881</td>\n",
       "    </tr>\n",
       "    <tr>\n",
       "      <th>2</th>\n",
       "      <td>3</td>\n",
       "      <td>2023</td>\n",
       "      <td>Alemanha, República Democrática</td>\n",
       "      <td>4806.0</td>\n",
       "      <td>31853.0</td>\n",
       "      <td>2025-03-30 18:27:41.917881</td>\n",
       "    </tr>\n",
       "    <tr>\n",
       "      <th>3</th>\n",
       "      <td>4</td>\n",
       "      <td>2023</td>\n",
       "      <td>Angola</td>\n",
       "      <td>NaN</td>\n",
       "      <td>NaN</td>\n",
       "      <td>2025-03-30 18:27:41.917881</td>\n",
       "    </tr>\n",
       "    <tr>\n",
       "      <th>4</th>\n",
       "      <td>5</td>\n",
       "      <td>2023</td>\n",
       "      <td>Anguilla</td>\n",
       "      <td>NaN</td>\n",
       "      <td>NaN</td>\n",
       "      <td>2025-03-30 18:27:41.917881</td>\n",
       "    </tr>\n",
       "  </tbody>\n",
       "</table>\n",
       "</div>"
      ],
      "text/plain": [
       "   id   ano                             pais  quantidade_litros  valor_usd  \\\n",
       "0   1  2023                      Afeganistão                NaN        NaN   \n",
       "1   2  2023                    África do Sul              117.0      698.0   \n",
       "2   3  2023  Alemanha, República Democrática             4806.0    31853.0   \n",
       "3   4  2023                           Angola                NaN        NaN   \n",
       "4   5  2023                         Anguilla                NaN        NaN   \n",
       "\n",
       "               data_insercao  \n",
       "0 2025-03-30 18:27:41.917881  \n",
       "1 2025-03-30 18:27:41.917881  \n",
       "2 2025-03-30 18:27:41.917881  \n",
       "3 2025-03-30 18:27:41.917881  \n",
       "4 2025-03-30 18:27:41.917881  "
      ]
     },
     "execution_count": 2,
     "metadata": {},
     "output_type": "execute_result"
    }
   ],
   "source": [
    "# Carregar os dados da tabela de exportação\n",
    "query = \"SELECT * FROM exportacao;\"\n",
    "df_exportacao = pd.read_sql(query, con=connection)\n",
    "\n",
    "# Fechar a conexão\n",
    "connection.close()\n",
    "\n",
    "# Visualizar os primeiros registros dos dados carregados\n",
    "df_exportacao.head()\n"
   ]
  },
  {
   "cell_type": "markdown",
   "metadata": {},
   "source": [
    "### DATA PREPARATION"
   ]
  },
  {
   "cell_type": "code",
   "execution_count": 3,
   "metadata": {},
   "outputs": [
    {
     "data": {
      "text/plain": [
       "id                   0\n",
       "ano                  0\n",
       "pais                 0\n",
       "quantidade_litros    0\n",
       "valor_usd            0\n",
       "data_insercao        0\n",
       "dtype: int64"
      ]
     },
     "execution_count": 3,
     "metadata": {},
     "output_type": "execute_result"
    }
   ],
   "source": [
    "# Substituir \"-\" por NaN nas colunas 'quantidade_litros' e 'valor_usd'\n",
    "df_exportacao['quantidade_litros'] = pd.to_numeric(df_exportacao['quantidade_litros'], errors='coerce')\n",
    "df_exportacao['valor_usd'] = pd.to_numeric(df_exportacao['valor_usd'], errors='coerce')\n",
    "\n",
    "# Remover linhas com valores ausentes (NaN) em 'quantidade_litros' ou 'valor_usd'\n",
    "df_clean = df_exportacao.dropna(subset=['quantidade_litros', 'valor_usd'])\n",
    "\n",
    "# Verificar se há mais dados ausentes após limpeza\n",
    "df_clean.isnull().sum()"
   ]
  },
  {
   "cell_type": "code",
   "execution_count": 4,
   "metadata": {},
   "outputs": [
    {
     "name": "stdout",
     "output_type": "stream",
     "text": [
      "Correlação entre quantidade_litros e valor_usd: 0.97\n"
     ]
    },
    {
     "data": {
      "image/png": "[encoded data removed]",
      "text/plain": [
       "<Figure size 800x600 with 1 Axes>"
      ]
     },
     "metadata": {},
     "output_type": "display_data"
    }
   ],
   "source": [
    "# Calcular a correlação\n",
    "correlacao = df_clean[['quantidade_litros', 'valor_usd']].corr().iloc[0, 1]\n",
    "print(f\"Correlação entre quantidade_litros e valor_usd: {correlacao:.2f}\")\n",
    "\n",
    "# Scatter plot com linha de tendência\n",
    "plt.figure(figsize=(8, 6))\n",
    "sns.regplot(data=df_clean, x='quantidade_litros', y='valor_usd', ci=None, line_kws={\"color\": \"red\"})\n",
    "plt.title(f\"Relação entre Quantidade de Litros e Valor USD\\nCorrelação: {correlacao:.2f}\")\n",
    "plt.xlabel(\"Quantidade de Litros\")\n",
    "plt.ylabel(\"Valor USD\")\n",
    "plt.grid()\n",
    "plt.show()"
   ]
  },
  {
   "cell_type": "markdown",
   "metadata": {},
   "source": [
    "#### GERAR DADOS SINTETICOS E ADICIONAR RUIDOS"
   ]
  },
  {
   "cell_type": "code",
   "execution_count": 5,
   "metadata": {},
   "outputs": [
    {
     "data": {
      "text/html": [
       "<div>\n",
       "<style scoped>\n",
       "    .dataframe tbody tr th:only-of-type {\n",
       "        vertical-align: middle;\n",
       "    }\n",
       "\n",
       "    .dataframe tbody tr th {\n",
       "        vertical-align: top;\n",
       "    }\n",
       "\n",
       "    .dataframe thead th {\n",
       "        text-align: right;\n",
       "    }\n",
       "</style>\n",
       "<table border=\"1\" class=\"dataframe\">\n",
       "  <thead>\n",
       "    <tr style=\"text-align: right;\">\n",
       "      <th></th>\n",
       "      <th>id</th>\n",
       "      <th>ano</th>\n",
       "      <th>pais</th>\n",
       "      <th>quantidade_litros</th>\n",
       "      <th>valor_usd</th>\n",
       "      <th>data_insercao</th>\n",
       "    </tr>\n",
       "  </thead>\n",
       "  <tbody>\n",
       "    <tr>\n",
       "      <th>0</th>\n",
       "      <td>2.0</td>\n",
       "      <td>2023</td>\n",
       "      <td>África do Sul</td>\n",
       "      <td>117.0</td>\n",
       "      <td>698.0</td>\n",
       "      <td>2025-03-30 18:27:41.917881</td>\n",
       "    </tr>\n",
       "    <tr>\n",
       "      <th>1</th>\n",
       "      <td>3.0</td>\n",
       "      <td>2023</td>\n",
       "      <td>Alemanha, República Democrática</td>\n",
       "      <td>4806.0</td>\n",
       "      <td>31853.0</td>\n",
       "      <td>2025-03-30 18:27:41.917881</td>\n",
       "    </tr>\n",
       "    <tr>\n",
       "      <th>2</th>\n",
       "      <td>6.0</td>\n",
       "      <td>2023</td>\n",
       "      <td>Antígua e Barbuda</td>\n",
       "      <td>383.0</td>\n",
       "      <td>1848.0</td>\n",
       "      <td>2025-03-30 18:27:41.917881</td>\n",
       "    </tr>\n",
       "    <tr>\n",
       "      <th>3</th>\n",
       "      <td>8.0</td>\n",
       "      <td>2023</td>\n",
       "      <td>Arábia Saudita</td>\n",
       "      <td>124.0</td>\n",
       "      <td>142.0</td>\n",
       "      <td>2025-03-30 18:27:41.917881</td>\n",
       "    </tr>\n",
       "    <tr>\n",
       "      <th>4</th>\n",
       "      <td>9.0</td>\n",
       "      <td>2023</td>\n",
       "      <td>Argentina</td>\n",
       "      <td>4545.0</td>\n",
       "      <td>36133.0</td>\n",
       "      <td>2025-03-30 18:27:41.917881</td>\n",
       "    </tr>\n",
       "  </tbody>\n",
       "</table>\n",
       "</div>"
      ],
      "text/plain": [
       "    id   ano                             pais  quantidade_litros  valor_usd  \\\n",
       "0  2.0  2023                    África do Sul              117.0      698.0   \n",
       "1  3.0  2023  Alemanha, República Democrática             4806.0    31853.0   \n",
       "2  6.0  2023                Antígua e Barbuda              383.0     1848.0   \n",
       "3  8.0  2023                   Arábia Saudita              124.0      142.0   \n",
       "4  9.0  2023                        Argentina             4545.0    36133.0   \n",
       "\n",
       "               data_insercao  \n",
       "0 2025-03-30 18:27:41.917881  \n",
       "1 2025-03-30 18:27:41.917881  \n",
       "2 2025-03-30 18:27:41.917881  \n",
       "3 2025-03-30 18:27:41.917881  \n",
       "4 2025-03-30 18:27:41.917881  "
      ]
     },
     "execution_count": 5,
     "metadata": {},
     "output_type": "execute_result"
    }
   ],
   "source": [
    "# Gerar dados sintéticos a partir do dataframe original\n",
    "def gerar_dados_sinteticos(df_original, num_novos_dados):\n",
    "    # Inicializar uma lista para armazenar os novos dados\n",
    "    dados_sinteticos = []\n",
    "\n",
    "    for _ in range(num_novos_dados):\n",
    "        # Seleciona um registro aleatório do dataframe original\n",
    "        sample = df_original.sample(n=1, random_state=np.random.randint(0, 10000))\n",
    "\n",
    "        # Adiciona ruído nas variáveis 'quantidade_litros' e 'valor_usd'\n",
    "        ruido_quantidade = np.random.normal(loc=0, scale=sample['quantidade_litros'].values[0] * 0.1)\n",
    "        ruido_valor = np.random.normal(loc=0, scale=sample['valor_usd'].values[0] * 0.1)\n",
    "\n",
    "        # Cria uma nova amostra com o ruído\n",
    "        novo_dado = {\n",
    "            'ano': sample['ano'].values[0],\n",
    "            'pais': sample['pais'].values[0],\n",
    "            'quantidade_litros': sample['quantidade_litros'].values[0] + ruido_quantidade,\n",
    "            'valor_usd': sample['valor_usd'].values[0] + ruido_valor\n",
    "        }\n",
    "\n",
    "        # Adiciona a nova amostra à lista de dados sintéticos\n",
    "        dados_sinteticos.append(novo_dado)\n",
    "\n",
    "    # Converter a lista de dados sintéticos para um DataFrame\n",
    "    df_sintetico = pd.DataFrame(dados_sinteticos)\n",
    "\n",
    "    return df_sintetico\n",
    "\n",
    "# Gerar 1000 novos registros sintéticos\n",
    "df_novos_dados = gerar_dados_sinteticos(df_clean, 1000)\n",
    "\n",
    "# Concatenar os dados reais com os dados sintéticos\n",
    "df_clean = pd.concat([df_clean, df_novos_dados], ignore_index=True)\n",
    "\n",
    "# Verificar o DataFrame final\n",
    "df_clean.head()\n"
   ]
  },
  {
   "cell_type": "code",
   "execution_count": 6,
   "metadata": {},
   "outputs": [
    {
     "name": "stdout",
     "output_type": "stream",
     "text": [
      "Correlação entre quantidade_litros e valor_usd: 0.97\n"
     ]
    },
    {
     "data": {
      "image/png": "[encoded data removed]",
      "text/plain": [
       "<Figure size 800x600 with 1 Axes>"
      ]
     },
     "metadata": {},
     "output_type": "display_data"
    }
   ],
   "source": [
    "# Calcular a correlação\n",
    "correlacao = df_clean[['quantidade_litros', 'valor_usd']].corr().iloc[0, 1]\n",
    "print(f\"Correlação entre quantidade_litros e valor_usd: {correlacao:.2f}\")\n",
    "\n",
    "# Scatter plot com linha de tendência\n",
    "plt.figure(figsize=(8, 6))\n",
    "sns.regplot(data=df_clean, x='quantidade_litros', y='valor_usd', ci=None, line_kws={\"color\": \"red\"})\n",
    "plt.title(f\"Relação entre Quantidade de Litros e Valor USD\\nCorrelação: {correlacao:.2f}\")\n",
    "plt.xlabel(\"Quantidade de Litros\")\n",
    "plt.ylabel(\"Valor USD\")\n",
    "plt.grid()\n",
    "plt.show()"
   ]
  },
  {
   "cell_type": "code",
   "execution_count": 7,
   "metadata": {},
   "outputs": [
    {
     "data": {
      "text/html": [
       "<div>\n",
       "<style scoped>\n",
       "    .dataframe tbody tr th:only-of-type {\n",
       "        vertical-align: middle;\n",
       "    }\n",
       "\n",
       "    .dataframe tbody tr th {\n",
       "        vertical-align: top;\n",
       "    }\n",
       "\n",
       "    .dataframe thead th {\n",
       "        text-align: right;\n",
       "    }\n",
       "</style>\n",
       "<table border=\"1\" class=\"dataframe\">\n",
       "  <thead>\n",
       "    <tr style=\"text-align: right;\">\n",
       "      <th></th>\n",
       "      <th>ano</th>\n",
       "      <th>quantidade_litros</th>\n",
       "      <th>valor_usd</th>\n",
       "      <th>pais_Afeganistão</th>\n",
       "      <th>pais_Alemanha, República Democrática</th>\n",
       "      <th>pais_Angola</th>\n",
       "      <th>pais_Antilhas Holandesas</th>\n",
       "      <th>pais_Antígua e Barbuda</th>\n",
       "      <th>pais_Argentina</th>\n",
       "      <th>pais_Aruba</th>\n",
       "      <th>...</th>\n",
       "      <th>pais_Total</th>\n",
       "      <th>pais_Trinidade Tobago</th>\n",
       "      <th>pais_Turquia</th>\n",
       "      <th>pais_Tuvalu</th>\n",
       "      <th>pais_Uruguai</th>\n",
       "      <th>pais_Vanuatu</th>\n",
       "      <th>pais_Venezuela</th>\n",
       "      <th>pais_Vietnã</th>\n",
       "      <th>pais_África do Sul</th>\n",
       "      <th>pais_Áustria</th>\n",
       "    </tr>\n",
       "  </thead>\n",
       "  <tbody>\n",
       "    <tr>\n",
       "      <th>0</th>\n",
       "      <td>2023</td>\n",
       "      <td>117.0</td>\n",
       "      <td>698.0</td>\n",
       "      <td>0.0</td>\n",
       "      <td>0.0</td>\n",
       "      <td>0.0</td>\n",
       "      <td>0.0</td>\n",
       "      <td>0.0</td>\n",
       "      <td>0.0</td>\n",
       "      <td>0.0</td>\n",
       "      <td>...</td>\n",
       "      <td>0.0</td>\n",
       "      <td>0.0</td>\n",
       "      <td>0.0</td>\n",
       "      <td>0.0</td>\n",
       "      <td>0.0</td>\n",
       "      <td>0.0</td>\n",
       "      <td>0.0</td>\n",
       "      <td>0.0</td>\n",
       "      <td>1.0</td>\n",
       "      <td>0.0</td>\n",
       "    </tr>\n",
       "    <tr>\n",
       "      <th>1</th>\n",
       "      <td>2023</td>\n",
       "      <td>4806.0</td>\n",
       "      <td>31853.0</td>\n",
       "      <td>0.0</td>\n",
       "      <td>1.0</td>\n",
       "      <td>0.0</td>\n",
       "      <td>0.0</td>\n",
       "      <td>0.0</td>\n",
       "      <td>0.0</td>\n",
       "      <td>0.0</td>\n",
       "      <td>...</td>\n",
       "      <td>0.0</td>\n",
       "      <td>0.0</td>\n",
       "      <td>0.0</td>\n",
       "      <td>0.0</td>\n",
       "      <td>0.0</td>\n",
       "      <td>0.0</td>\n",
       "      <td>0.0</td>\n",
       "      <td>0.0</td>\n",
       "      <td>0.0</td>\n",
       "      <td>0.0</td>\n",
       "    </tr>\n",
       "    <tr>\n",
       "      <th>2</th>\n",
       "      <td>2023</td>\n",
       "      <td>383.0</td>\n",
       "      <td>1848.0</td>\n",
       "      <td>0.0</td>\n",
       "      <td>0.0</td>\n",
       "      <td>0.0</td>\n",
       "      <td>0.0</td>\n",
       "      <td>1.0</td>\n",
       "      <td>0.0</td>\n",
       "      <td>0.0</td>\n",
       "      <td>...</td>\n",
       "      <td>0.0</td>\n",
       "      <td>0.0</td>\n",
       "      <td>0.0</td>\n",
       "      <td>0.0</td>\n",
       "      <td>0.0</td>\n",
       "      <td>0.0</td>\n",
       "      <td>0.0</td>\n",
       "      <td>0.0</td>\n",
       "      <td>0.0</td>\n",
       "      <td>0.0</td>\n",
       "    </tr>\n",
       "    <tr>\n",
       "      <th>3</th>\n",
       "      <td>2023</td>\n",
       "      <td>124.0</td>\n",
       "      <td>142.0</td>\n",
       "      <td>0.0</td>\n",
       "      <td>0.0</td>\n",
       "      <td>0.0</td>\n",
       "      <td>0.0</td>\n",
       "      <td>0.0</td>\n",
       "      <td>0.0</td>\n",
       "      <td>0.0</td>\n",
       "      <td>...</td>\n",
       "      <td>0.0</td>\n",
       "      <td>0.0</td>\n",
       "      <td>0.0</td>\n",
       "      <td>0.0</td>\n",
       "      <td>0.0</td>\n",
       "      <td>0.0</td>\n",
       "      <td>0.0</td>\n",
       "      <td>0.0</td>\n",
       "      <td>0.0</td>\n",
       "      <td>0.0</td>\n",
       "    </tr>\n",
       "    <tr>\n",
       "      <th>4</th>\n",
       "      <td>2023</td>\n",
       "      <td>4545.0</td>\n",
       "      <td>36133.0</td>\n",
       "      <td>0.0</td>\n",
       "      <td>0.0</td>\n",
       "      <td>0.0</td>\n",
       "      <td>0.0</td>\n",
       "      <td>0.0</td>\n",
       "      <td>1.0</td>\n",
       "      <td>0.0</td>\n",
       "      <td>...</td>\n",
       "      <td>0.0</td>\n",
       "      <td>0.0</td>\n",
       "      <td>0.0</td>\n",
       "      <td>0.0</td>\n",
       "      <td>0.0</td>\n",
       "      <td>0.0</td>\n",
       "      <td>0.0</td>\n",
       "      <td>0.0</td>\n",
       "      <td>0.0</td>\n",
       "      <td>0.0</td>\n",
       "    </tr>\n",
       "  </tbody>\n",
       "</table>\n",
       "<p>5 rows × 124 columns</p>\n",
       "</div>"
      ],
      "text/plain": [
       "    ano  quantidade_litros  valor_usd  pais_Afeganistão  \\\n",
       "0  2023              117.0      698.0               0.0   \n",
       "1  2023             4806.0    31853.0               0.0   \n",
       "2  2023              383.0     1848.0               0.0   \n",
       "3  2023              124.0      142.0               0.0   \n",
       "4  2023             4545.0    36133.0               0.0   \n",
       "\n",
       "   pais_Alemanha, República Democrática  pais_Angola  \\\n",
       "0                                   0.0          0.0   \n",
       "1                                   1.0          0.0   \n",
       "2                                   0.0          0.0   \n",
       "3                                   0.0          0.0   \n",
       "4                                   0.0          0.0   \n",
       "\n",
       "   pais_Antilhas Holandesas  pais_Antígua e Barbuda  pais_Argentina  \\\n",
       "0                       0.0                     0.0             0.0   \n",
       "1                       0.0                     0.0             0.0   \n",
       "2                       0.0                     1.0             0.0   \n",
       "3                       0.0                     0.0             0.0   \n",
       "4                       0.0                     0.0             1.0   \n",
       "\n",
       "   pais_Aruba  ...  pais_Total  pais_Trinidade Tobago  pais_Turquia  \\\n",
       "0         0.0  ...         0.0                    0.0           0.0   \n",
       "1         0.0  ...         0.0                    0.0           0.0   \n",
       "2         0.0  ...         0.0                    0.0           0.0   \n",
       "3         0.0  ...         0.0                    0.0           0.0   \n",
       "4         0.0  ...         0.0                    0.0           0.0   \n",
       "\n",
       "   pais_Tuvalu  pais_Uruguai  pais_Vanuatu  pais_Venezuela  pais_Vietnã  \\\n",
       "0          0.0           0.0           0.0             0.0          0.0   \n",
       "1          0.0           0.0           0.0             0.0          0.0   \n",
       "2          0.0           0.0           0.0             0.0          0.0   \n",
       "3          0.0           0.0           0.0             0.0          0.0   \n",
       "4          0.0           0.0           0.0             0.0          0.0   \n",
       "\n",
       "   pais_África do Sul  pais_Áustria  \n",
       "0                 1.0           0.0  \n",
       "1                 0.0           0.0  \n",
       "2                 0.0           0.0  \n",
       "3                 0.0           0.0  \n",
       "4                 0.0           0.0  \n",
       "\n",
       "[5 rows x 124 columns]"
      ]
     },
     "execution_count": 7,
     "metadata": {},
     "output_type": "execute_result"
    }
   ],
   "source": [
    "# Codificar os países usando OneHotEncoder\n",
    "encoder = OneHotEncoder(sparse_output=False)\n",
    "\n",
    "# Codificar a coluna 'pais'\n",
    "pais_encoded = encoder.fit_transform(df_clean[['pais']])\n",
    "\n",
    "# Criar um DataFrame com as variáveis codificadas\n",
    "pais_encoded_df = pd.DataFrame(pais_encoded, columns=encoder.get_feature_names_out(['pais']))\n",
    "\n",
    "# Concatenar as variáveis codificadas com os dados numéricos\n",
    "df_encoded = pd.concat([df_clean[['ano', 'quantidade_litros', 'valor_usd']], pais_encoded_df], axis=1)\n",
    "\n",
    "# Exibir as primeiras linhas do DataFrame codificado\n",
    "df_encoded.head()"
   ]
  },
  {
   "cell_type": "code",
   "execution_count": 8,
   "metadata": {},
   "outputs": [
    {
     "name": "stdout",
     "output_type": "stream",
     "text": [
      "Index(['ano', 'quantidade_litros', 'valor_usd', 'pais_Afeganistão',\n",
      "       'pais_Alemanha, República Democrática', 'pais_Angola',\n",
      "       'pais_Antilhas Holandesas', 'pais_Antígua e Barbuda', 'pais_Argentina',\n",
      "       'pais_Aruba',\n",
      "       ...\n",
      "       'pais_Total', 'pais_Trinidade Tobago', 'pais_Turquia', 'pais_Tuvalu',\n",
      "       'pais_Uruguai', 'pais_Vanuatu', 'pais_Venezuela', 'pais_Vietnã',\n",
      "       'pais_África do Sul', 'pais_Áustria'],\n",
      "      dtype='object', length=124)\n"
     ]
    }
   ],
   "source": [
    "print(df_encoded.columns)"
   ]
  },
  {
   "cell_type": "code",
   "execution_count": 9,
   "metadata": {},
   "outputs": [],
   "source": [
    "# Definir as variáveis de entrada (X) e as variáveis de saída (y)\n",
    "X = df_encoded.drop(columns=['quantidade_litros', 'valor_usd'])  # Remover as colunas de saída\n",
    "y = df_encoded[['quantidade_litros', 'valor_usd']]  # Colunas de saída\n",
    "\n",
    "#y = df_encoded['valor_usd'] # Colunas de saída\n"
   ]
  },
  {
   "cell_type": "code",
   "execution_count": 10,
   "metadata": {},
   "outputs": [
    {
     "name": "stdout",
     "output_type": "stream",
     "text": [
      "Dimensões do conjunto de treino X: (1252, 122)\n",
      "Dimensões do conjunto de teste X: (313, 122)\n",
      "Dimensões do conjunto de treino y: (1252, 2)\n",
      "Dimensões do conjunto de teste y: (313, 2)\n"
     ]
    }
   ],
   "source": [
    "\n",
    "# Dividir os dados em conjunto de treino e teste (80% treino, 20% teste)\n",
    "X_train, X_test, y_train, y_test = train_test_split(X, y, test_size=0.2, random_state=42)\n",
    "\n",
    "\n",
    "# Preencher valores NaN com a média das colunas\n",
    "X_train = X_train.fillna(X_train.mean())\n",
    "y_train = y_train.fillna(y_train.mean())\n",
    "X_test = X_test.fillna(X_test.mean())\n",
    "y_test = y_test.fillna(y_test.mean())\n",
    "\n",
    "\n",
    "# Exibir as dimensões dos conjuntos de treino e teste\n",
    "print(f\"Dimensões do conjunto de treino X: {X_train.shape}\")\n",
    "print(f\"Dimensões do conjunto de teste X: {X_test.shape}\")\n",
    "print(f\"Dimensões do conjunto de treino y: {y_train.shape}\")\n",
    "print(f\"Dimensões do conjunto de teste y: {y_test.shape}\")\n"
   ]
  },
  {
   "cell_type": "markdown",
   "metadata": {},
   "source": [
    "## MODEL TRAINING"
   ]
  },
  {
   "cell_type": "markdown",
   "metadata": {},
   "source": [
    "#### TRAINING (LINEAR REGRESSION)"
   ]
  },
  {
   "cell_type": "code",
   "execution_count": 11,
   "metadata": {},
   "outputs": [
    {
     "name": "stdout",
     "output_type": "stream",
     "text": [
      "Coeficientes do modelo: [[ 2.81756770e+04 -1.02639822e+05  8.92186364e+03  9.94269653e+03\n",
      "   5.51414685e+04 -8.49595531e+04 -6.41535013e+04  9.50065303e+04\n",
      "  -1.58878176e+05 -3.66588822e+04 -8.60819176e+04 -1.30819826e+05\n",
      "  -9.84998904e+04 -1.06482363e+05 -4.62903331e+04 -1.64381496e+04\n",
      "  -1.58986403e+05 -1.72718849e+04 -1.25182836e+05 -8.38209877e+04\n",
      "  -1.65588087e+04 -7.44301447e+04 -3.92365385e+04 -7.44751447e+04\n",
      "  -3.94673378e+03 -7.94572438e+04 -1.00106814e+05 -9.75886193e+04\n",
      "   5.54870637e+04 -9.43785166e+04 -2.67319025e+03 -1.30798241e+05\n",
      "  -6.06639034e+04 -7.44659455e+04 -1.41902176e+05 -5.46849083e+04\n",
      "  -1.08256852e+05  2.51047004e+04 -4.06636008e+04 -4.23736198e+04\n",
      "  -1.12363445e+05 -3.61123483e+04 -8.27505115e+04 -9.79365616e+04\n",
      "   1.35166175e+05  3.91014749e+04 -7.86671061e+04  2.98344001e+04\n",
      "  -1.30360660e+04 -5.77816829e+04 -7.37175711e+04 -1.25216499e+05\n",
      "  -8.44882605e+04 -8.50179375e+04 -9.69056388e+04 -1.16683201e+05\n",
      "   1.00977303e+04  1.56348993e+04  2.98831535e+05 -2.62764402e+04\n",
      "  -1.02563822e+05 -9.53552999e+04 -1.06880932e+05 -1.58993295e+05\n",
      "  -8.59004596e+04 -1.11978118e+05 -5.81822718e+04  3.04849332e+04\n",
      "  -7.44617092e+04 -7.42776447e+04 -6.88664412e+04 -9.01934046e+03\n",
      "  -1.58995021e+05 -1.55586549e+05 -8.21117807e+04 -3.21799569e+04\n",
      "  -1.01605962e+05 -1.58993407e+05 -1.02641822e+05 -7.44647576e+04\n",
      "  -1.30443499e+05 -4.24673457e+04 -5.46072367e+04 -4.17597968e+04\n",
      "  -9.54238217e+04 -1.51395750e+04 -1.30632499e+05 -1.58954886e+05\n",
      "  -9.61565404e+04  2.66757790e+06 -4.73258271e+04 -7.57176807e+04\n",
      "  -1.58991496e+05  8.26044903e+03 -2.48917382e+04 -7.00652394e+04\n",
      "   3.69235913e+04  1.70881361e+05 -8.99144776e+04 -1.35925269e+05\n",
      "  -1.02640822e+05 -4.13387804e+04 -6.02448732e+03 -3.10379751e+04\n",
      "  -1.58986293e+05 -1.59184638e+04 -1.44883945e+05 -6.70623908e+04\n",
      "  -1.90666008e+04 -2.06259688e+04 -1.12842099e+05 -1.58999287e+05\n",
      "   4.21395124e+06  9.49331285e+04 -6.72132309e+04 -7.44730421e+04\n",
      "   1.30850759e+05 -7.44571447e+04 -3.14242415e+04 -1.11020366e+05\n",
      "  -8.24743913e+04  1.06099416e+04]\n",
      " [ 2.42421586e+04 -1.50751703e+05  5.17059284e+04 -3.94977664e+04\n",
      "  -7.22735071e+03 -1.34393482e+05 -9.87157717e+04  1.96245464e+04\n",
      "  -1.99140020e+05 -8.19095937e+04 -1.33467339e+05 -1.74958783e+05\n",
      "  -1.46816278e+05 -1.52826829e+05 -1.02286165e+05 -7.12874840e+04\n",
      "  -1.99137026e+05 -6.08512552e+04 -1.71195727e+05 -1.34078088e+05\n",
      "  -8.38414988e+01 -1.26503545e+05 -9.61905972e+04 -1.26376209e+05\n",
      "  -1.33411508e+04 -1.08558672e+05 -1.47700799e+05 -1.45419091e+05\n",
      "   2.21394761e+05 -1.41208935e+05 -5.76971354e+04 -1.74980173e+05\n",
      "  -1.07590563e+05 -1.26528790e+05 -1.72682020e+05 -1.09403457e+05\n",
      "  -1.55317366e+05 -3.28434335e+04 -7.07669027e+04 -9.11169773e+04\n",
      "  -1.58722778e+05 -7.75825725e+04 -1.33226269e+05 -1.43498480e+05\n",
      "   4.57985155e+05 -2.50260549e+04 -1.26952994e+05  1.16684986e+04\n",
      "  -4.25355877e+04 -1.02085765e+05 -1.23604209e+05 -1.67125862e+05\n",
      "  -1.31947312e+05 -1.25593217e+05 -1.28077325e+05 -1.62893482e+05\n",
      "  -5.37425770e+04 -2.74909763e+04  3.77349094e+05 -5.04114267e+04\n",
      "  -1.50214703e+05 -1.43866003e+05 -1.54058702e+05 -1.99253236e+05\n",
      "  -1.32531162e+05 -1.58736251e+05 -1.06628103e+05  5.80379334e+04\n",
      "  -1.26499643e+05 -1.24690045e+05 -1.06571125e+05 -5.70497942e+04\n",
      "  -1.99276403e+05 -1.93159579e+05 -1.24552304e+05 -9.01145386e+04\n",
      "  -1.31915019e+05 -1.99247862e+05 -1.50712703e+05 -1.26521480e+05\n",
      "  -1.73112862e+05 -9.42050904e+04 -9.17220998e+04 -8.58090437e+04\n",
      "  -1.38873703e+05 -7.02278568e+04 -1.74369862e+05 -1.99145051e+05\n",
      "  -1.12018075e+05  3.88148116e+06 -3.43214940e+04 -1.14649380e+05\n",
      "  -1.99258549e+05 -3.21334457e+04 -5.49016124e+04 -1.09694519e+05\n",
      "   2.26745348e+05  4.24138402e+04 -1.32706402e+05 -1.66164621e+05\n",
      "  -1.50773703e+05 -9.65998538e+04 -4.79797462e+04 -4.73398439e+04\n",
      "  -1.99252472e+05 -7.58347958e+04 -1.87046711e+05 -1.19325570e+05\n",
      "  -5.55641096e+04 -6.54692890e+04 -1.52700860e+05 -1.99271990e+05\n",
      "   7.12324535e+06  2.04363362e+04 -1.11307161e+05 -1.26551656e+05\n",
      "   1.87511009e+05 -1.26524545e+05 -7.53211378e+04 -1.57817558e+05\n",
      "  -1.33208079e+05 -4.94303459e+04]]\n"
     ]
    }
   ],
   "source": [
    "# Criar o modelo de Regressão Linear\n",
    "model = LinearRegression()\n",
    "\n",
    "# Treinar o modelo com os dados de treino\n",
    "model.fit(X_train, y_train)\n",
    "\n",
    "# Exibir os coeficientes do modelo treinado\n",
    "print(f\"Coeficientes do modelo: {model.coef_}\")"
   ]
  },
  {
   "cell_type": "markdown",
   "metadata": {},
   "source": [
    "#### EVALUATE MODEL"
   ]
  },
  {
   "cell_type": "code",
   "execution_count": 12,
   "metadata": {},
   "outputs": [
    {
     "name": "stdout",
     "output_type": "stream",
     "text": [
      "Erro Quadrático Médio (MSE): 132222614482.79584\n"
     ]
    }
   ],
   "source": [
    "# Fazer previsões com os dados de teste\n",
    "y_pred = model.predict(X_test)\n",
    "\n",
    "# Calcular o erro quadrático médio (MSE)\n",
    "mse = mean_squared_error(y_test, y_pred)\n",
    "\n",
    "# Exibir o MSE\n",
    "print(f\"Erro Quadrático Médio (MSE): {mse}\")"
   ]
  },
  {
   "cell_type": "markdown",
   "metadata": {},
   "source": [
    "### PREDICT"
   ]
  },
  {
   "cell_type": "code",
   "execution_count": 13,
   "metadata": {},
   "outputs": [
    {
     "name": "stdout",
     "output_type": "stream",
     "text": [
      "Previsão para o Brasil em 2024:\n",
      "Quantidade de Litros: 61995.01616308838\n",
      "Valor em USD: 52328.45214099437\n"
     ]
    },
    {
     "name": "stderr",
     "output_type": "stream",
     "text": [
      "/home/alberone/projects/fiap/ml-engineering/ml-tech-fiap-vitivinicultura-api/venv/lib/python3.12/site-packages/sklearn/utils/validation.py:2739: UserWarning: X does not have valid feature names, but OneHotEncoder was fitted with feature names\n",
      "  warnings.warn(\n"
     ]
    }
   ],
   "source": [
    "# Exemplo de previsão para o ano de 2024 e país \"Brasil\"\n",
    "novo_ano = 2024\n",
    "novo_pais = 'Brasil'\n",
    "\n",
    "# Criar um DataFrame com o ano e a codificação do país\n",
    "novo_pais_encoded = encoder.transform([[novo_pais]])\n",
    "entrada = pd.DataFrame([list([novo_ano]) + list(novo_pais_encoded[0])], columns=X.columns)\n",
    "\n",
    "# Fazer a previsão de quantidade de litros e valor em USD para o novo país e ano\n",
    "quantidade_prevista, valor_previsto = model.predict(entrada)[0]\n",
    "\n",
    "# Exibir os resultados da previsão\n",
    "print(f\"Previsão para o {novo_pais} em {novo_ano}:\")\n",
    "print(f\"Quantidade de Litros: {quantidade_prevista}\")\n",
    "print(f\"Valor em USD: {valor_previsto}\")\n"
   ]
  },
  {
   "cell_type": "markdown",
   "metadata": {},
   "source": [
    "### SAVE MODEL"
   ]
  },
  {
   "cell_type": "code",
   "execution_count": 14,
   "metadata": {},
   "outputs": [
    {
     "name": "stdout",
     "output_type": "stream",
     "text": [
      "/home/alberone/projects/fiap/ml-engineering/ml-tech-fiap-vitivinicultura-api\n",
      "Modelo salvo em: /home/alberone/projects/fiap/ml-engineering/ml-tech-fiap-vitivinicultura-api/ml-model/production/modelo_exportacao.pkl\n",
      "Encoder salvo em: /home/alberone/projects/fiap/ml-engineering/ml-tech-fiap-vitivinicultura-api/ml-model/production/encoder_exportacao.pkl\n"
     ]
    }
   ],
   "source": [
    "\n",
    "# Obter o diretório atual do notebook\n",
    "notebook_dir = os.getcwd()\n",
    "\n",
    "\n",
    "# Subir dois níveis na hierarquia de diretórios\n",
    "parent_dir_two_levels_up = os.path.abspath(os.path.join(notebook_dir, os.pardir, os.pardir))\n",
    "\n",
    "\n",
    "print(f\"{parent_dir_two_levels_up}\")\n",
    "\n",
    "# Caminho relativo à raiz do projeto\n",
    "save_dir = os.path.join(parent_dir_two_levels_up, 'ml-model', 'production')\n",
    "\n",
    "# Certifique-se de que o diretório existe\n",
    "os.makedirs(save_dir, exist_ok=True)\n",
    "\n",
    "# Caminhos completos para os arquivos\n",
    "model_path = os.path.join(save_dir, 'modelo_exportacao.pkl')\n",
    "encoder_path = os.path.join(save_dir, 'encoder_exportacao.pkl')\n",
    "\n",
    "# Salvar o modelo treinado e o encoder\n",
    "import joblib\n",
    "joblib.dump(model, model_path)\n",
    "joblib.dump(encoder, encoder_path)\n",
    "\n",
    "print(f\"Modelo salvo em: {model_path}\")\n",
    "print(f\"Encoder salvo em: {encoder_path}\")"
   ]
  }
 ],
 "metadata": {
  "kernelspec": {
   "display_name": "venv",
   "language": "python",
   "name": "python3"
  },
  "language_info": {
   "codemirror_mode": {
    "name": "ipython",
    "version": 3
   },
   "file_extension": ".py",
   "mimetype": "text/x-python",
   "name": "python",
   "nbconvert_exporter": "python",
   "pygments_lexer": "ipython3",
   "version": "3.12.3"
  }
 },
 "nbformat": 4,
 "nbformat_minor": 2
}
